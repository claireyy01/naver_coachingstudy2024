{
 "cells": [
  {
   "cell_type": "markdown",
   "id": "76444a91-48f4-437f-a335-62e1c1ea7d53",
   "metadata": {},
   "source": [
    "# 1. 데이터 분석 환경 구성\n",
    "\n",
    "## 1-1. 무엇을 분석할 것인가?\n",
    "[공공데이터 링크](https://www.data.go.kr/) : 국가에서 보유하고 있는 데이트들을 활용할 수 있는 곳\n",
    "\n",
    "\n",
    "\n",
    "## 1-2. 아나콘다 소개 및 주피터 노트북 사용법\n",
    "\n",
    "- 주피터랩 : 주피터노트북의 상위 버전으로, 사용하면 하나의 브라우저에 여러 개의 노트북을 열어서 사용할 수 있다.  \n",
    "- 아나콘다 : 파이썬, 넘파이, 사이킷런, 텐서플로우 등의 다양한 생태계를 활용할 수 있는 공간\n",
    "\n",
    "\n",
    "### 주피터 노트북 사용법\n",
    "\n",
    "- 마크다운 : 코드와 함께 문서화하는 방법(문법)\n",
    "    - bullet point : 글머리 기호\n",
    "    - '#, ##, ###, ####' : 제목1, 2, 3, 4 (하위 개념으로 글씨 사이즈 점점 작아짐)\n",
    "    - [참고: 유용한 마크다운 팁](https://leedakyeong.tistory.com/entry/Markdown-Jupyter-Notebook-%EC%A3%BC%ED%94%BC%ED%84%B0-%EB%85%B8%ED%8A%B8%EB%B6%81-%EB%A7%88%ED%81%AC%EB%8B%A4%EC%9A%B4-%EC%A0%95%EB%A6%AC)\n",
    "- 단축키\n",
    "    - shift + enter : 코드 실행\n",
    "    - enter : 편집 상태로 전환\n",
    "    - esc(명령 모드)를 누르고\n",
    "        - a : 위에 셀 추가\n",
    "        - b : 아래에 셀 추가\n",
    "        - dd : 셀 삭제\n",
    "        - m : 마크다운 모드로 전환\n",
    "        - y : 코드 작성 모드로 전환\n",
    "    - h : 단축키 목록 확인\n",
    "- 상단 메뉴탭, 버튼\n",
    "    - 정지 버튼 : 코드 실행을 중단\n",
    "    - View 탭에서 Toggle Line Numbers : 라인 넘버를 확인\n",
    "    - kernel 메뉴에서\n",
    "        - restart & clear output : 코드 실행 결과를 초기화\n",
    "        - restart & run all : 코드 처음부터 재실행\n",
    "- Extensions\n",
    "    - Nbextensions - Table of contents : 마크다운에 맞게 작성하면 좌측에 목록을 자동으로 생성해준다.\n",
    " \n",
    "---"
   ]
  },
  {
   "cell_type": "markdown",
   "id": "9c140d36-d687-4c98-9a9c-18e3bb7420a6",
   "metadata": {},
   "source": [
    "# 2. 데이터 분석 준비하기\n",
    "## 2-1. 데이터 분석을 위한 파이썬 속성 코스"
   ]
  },
  {
   "cell_type": "markdown",
   "id": "22d9dbd7-1ea3-49c3-b063-b67fc74a9fa3",
   "metadata": {},
   "source": [
    "- Zen of Python 문서"
   ]
  },
  {
   "cell_type": "code",
   "execution_count": 1,
   "id": "97c512b2-3816-4e44-b6ec-69595594ad15",
   "metadata": {},
   "outputs": [
    {
     "name": "stdout",
     "output_type": "stream",
     "text": [
      "The Zen of Python, by Tim Peters\n",
      "\n",
      "Beautiful is better than ugly.\n",
      "Explicit is better than implicit.\n",
      "Simple is better than complex.\n",
      "Complex is better than complicated.\n",
      "Flat is better than nested.\n",
      "Sparse is better than dense.\n",
      "Readability counts.\n",
      "Special cases aren't special enough to break the rules.\n",
      "Although practicality beats purity.\n",
      "Errors should never pass silently.\n",
      "Unless explicitly silenced.\n",
      "In the face of ambiguity, refuse the temptation to guess.\n",
      "There should be one-- and preferably only one --obvious way to do it.\n",
      "Although that way may not be obvious at first unless you're Dutch.\n",
      "Now is better than never.\n",
      "Although never is often better than *right* now.\n",
      "If the implementation is hard to explain, it's a bad idea.\n",
      "If the implementation is easy to explain, it may be a good idea.\n",
      "Namespaces are one honking great idea -- let's do more of those!\n"
     ]
    }
   ],
   "source": [
    "import this"
   ]
  },
  {
   "cell_type": "markdown",
   "id": "85d375f3-cb25-4ad7-aa05-ebbe7654b7a5",
   "metadata": {},
   "source": [
    "### boolen\n",
    "- True(참), False(거짓) 여부를 가리는 것  \n",
    "- '숫자'로 표현하면 True는 1, False는 0이다."
   ]
  },
  {
   "cell_type": "code",
   "execution_count": 6,
   "id": "0f66d9f2-eace-431b-859e-f62ebcf49f53",
   "metadata": {},
   "outputs": [
    {
     "data": {
      "text/plain": [
       "True"
      ]
     },
     "execution_count": 6,
     "metadata": {},
     "output_type": "execute_result"
    }
   ],
   "source": [
    "True==1"
   ]
  },
  {
   "cell_type": "code",
   "execution_count": 8,
   "id": "0dc4a295-8c7f-46ec-9271-f9031b73547e",
   "metadata": {},
   "outputs": [
    {
     "data": {
      "text/plain": [
       "False"
      ]
     },
     "execution_count": 8,
     "metadata": {},
     "output_type": "execute_result"
    }
   ],
   "source": [
    "False==1"
   ]
  },
  {
   "cell_type": "code",
   "execution_count": 10,
   "id": "b1153565-08d6-4ac8-82b3-b82c888133e9",
   "metadata": {},
   "outputs": [
    {
     "data": {
      "text/plain": [
       "True"
      ]
     },
     "execution_count": 10,
     "metadata": {},
     "output_type": "execute_result"
    }
   ],
   "source": [
    "False==0"
   ]
  },
  {
   "cell_type": "code",
   "execution_count": 14,
   "id": "7d50484b-6ff8-4689-8fa9-51357160ea43",
   "metadata": {},
   "outputs": [
    {
     "data": {
      "text/plain": [
       "False"
      ]
     },
     "execution_count": 14,
     "metadata": {},
     "output_type": "execute_result"
    }
   ],
   "source": [
    "# \"1\" : 문자(str) 1은 True와 다르다. False도 마찬가지\n",
    "True == \"1\""
   ]
  },
  {
   "cell_type": "markdown",
   "id": "96e15d3d-8944-45f9-a9c9-44194a4cdb32",
   "metadata": {},
   "source": [
    "- and : 모든 조건을 만족시켜야 함  \n",
    "- or : 여러 조건 중 1개만 만족해도 됨"
   ]
  },
  {
   "cell_type": "code",
   "execution_count": 17,
   "id": "35b8d686-d317-49be-8b44-824ca249b42a",
   "metadata": {},
   "outputs": [
    {
     "data": {
      "text/plain": [
       "True"
      ]
     },
     "execution_count": 17,
     "metadata": {},
     "output_type": "execute_result"
    }
   ],
   "source": [
    "True and True"
   ]
  },
  {
   "cell_type": "code",
   "execution_count": 19,
   "id": "0f085ff8-a8b2-4fb8-aadf-bbb3cb3b6e5a",
   "metadata": {},
   "outputs": [
    {
     "data": {
      "text/plain": [
       "False"
      ]
     },
     "execution_count": 19,
     "metadata": {},
     "output_type": "execute_result"
    }
   ],
   "source": [
    "True and False"
   ]
  },
  {
   "cell_type": "code",
   "execution_count": 21,
   "id": "1fdf4ffd-5442-44fa-bdc1-e11fd0b19742",
   "metadata": {},
   "outputs": [
    {
     "data": {
      "text/plain": [
       "True"
      ]
     },
     "execution_count": 21,
     "metadata": {},
     "output_type": "execute_result"
    }
   ],
   "source": [
    "True or True"
   ]
  },
  {
   "cell_type": "code",
   "execution_count": 23,
   "id": "856946d7-ebc5-49a4-9bd6-eb50afcc7551",
   "metadata": {},
   "outputs": [
    {
     "data": {
      "text/plain": [
       "True"
      ]
     },
     "execution_count": 23,
     "metadata": {},
     "output_type": "execute_result"
    }
   ],
   "source": [
    "True or False"
   ]
  },
  {
   "cell_type": "markdown",
   "id": "ceb3a8ad-b2ad-4c97-bc7f-fa73745557ab",
   "metadata": {},
   "source": [
    "### 숫자(Number)와 문자(String)\n",
    "숫자와 문자는 다르다!"
   ]
  },
  {
   "cell_type": "code",
   "execution_count": 26,
   "id": "216a97f8-bd0e-43f6-9c8d-d5c404f1b583",
   "metadata": {},
   "outputs": [
    {
     "data": {
      "text/plain": [
       "False"
      ]
     },
     "execution_count": 26,
     "metadata": {},
     "output_type": "execute_result"
    }
   ],
   "source": [
    "1 == \"1\""
   ]
  },
  {
   "cell_type": "code",
   "execution_count": 30,
   "id": "1da51123-f454-495f-acce-6d9d2c4dda66",
   "metadata": {},
   "outputs": [
    {
     "name": "stdout",
     "output_type": "stream",
     "text": [
      "<class 'int'>\n",
      "<class 'str'>\n"
     ]
    }
   ],
   "source": [
    "print(type(1))\n",
    "print(type(\"1\"))"
   ]
  },
  {
   "cell_type": "markdown",
   "id": "506660eb-96c1-49b7-a495-d391008c2098",
   "metadata": {},
   "source": [
    "### String과 List"
   ]
  },
  {
   "cell_type": "markdown",
   "id": "284952aa-0bea-417a-ab39-7c566b3fbdc6",
   "metadata": {},
   "source": [
    "|기호|내용|\n",
    "|--|------|\n",
    "|==|비교연산|\n",
    "|= |할당연산|  \n",
    "\n",
    "#### String"
   ]
  },
  {
   "cell_type": "code",
   "execution_count": 36,
   "id": "5789e4dc-23b8-4690-8b5e-a3318ed039d9",
   "metadata": {},
   "outputs": [
    {
     "data": {
      "text/plain": [
       "'Sunday'"
      ]
     },
     "execution_count": 36,
     "metadata": {},
     "output_type": "execute_result"
    }
   ],
   "source": [
    "# 문자열에 담아보기 (할당)\n",
    "today = \"Sunday\"\n",
    "today"
   ]
  },
  {
   "cell_type": "code",
   "execution_count": 42,
   "id": "e970f6ef-049a-4177-bc28-5051a2a9aca1",
   "metadata": {},
   "outputs": [
    {
     "data": {
      "text/plain": [
       "'sunday'"
      ]
     },
     "execution_count": 42,
     "metadata": {},
     "output_type": "execute_result"
    }
   ],
   "source": [
    "# 문자열. 을 입력한 뒤 Tab키를 누르면 사용할 수 있는 메서드들이 나온다.\n",
    "\n",
    "# 소문자로 만들기\n",
    "today.lower()"
   ]
  },
  {
   "cell_type": "code",
   "execution_count": 44,
   "id": "258d5d92-e3b3-4531-a85e-ac2aba3ed0ff",
   "metadata": {},
   "outputs": [
    {
     "data": {
      "text/plain": [
       "'SUNDAY'"
      ]
     },
     "execution_count": 44,
     "metadata": {},
     "output_type": "execute_result"
    }
   ],
   "source": [
    "# 대문자로 만들기\n",
    "today.upper()"
   ]
  },
  {
   "cell_type": "markdown",
   "id": "738de361-952f-4cea-bf2d-4a45af5ce400",
   "metadata": {},
   "source": [
    "#### List"
   ]
  },
  {
   "cell_type": "code",
   "execution_count": 12,
   "id": "004402ea-72ce-4ef6-aa30-62600b5c64d9",
   "metadata": {},
   "outputs": [],
   "source": [
    "# 비어있는 리스트를 생성하여 문자열에 담기\n",
    "lang = []"
   ]
  },
  {
   "cell_type": "code",
   "execution_count": 14,
   "id": "1fc32832-217d-44d6-a135-4d510111ff3f",
   "metadata": {},
   "outputs": [
    {
     "data": {
      "text/plain": [
       "['a', 'b', 'c']"
      ]
     },
     "execution_count": 14,
     "metadata": {},
     "output_type": "execute_result"
    }
   ],
   "source": [
    "# append : 리스트에 추가\n",
    "lang.append('a')\n",
    "lang.append('b')\n",
    "lang.append('c')\n",
    "lang"
   ]
  },
  {
   "cell_type": "code",
   "execution_count": 16,
   "id": "e796e92d-ccf0-482a-b2cf-799f4d1b7bfc",
   "metadata": {},
   "outputs": [
    {
     "data": {
      "text/plain": [
       "'b'"
      ]
     },
     "execution_count": 16,
     "metadata": {},
     "output_type": "execute_result"
    }
   ],
   "source": [
    "# 인덱싱하여 가져오기\n",
    "lang[1]"
   ]
  },
  {
   "cell_type": "code",
   "execution_count": 18,
   "id": "fa12ed89-05cb-49f8-803c-22b0b5207380",
   "metadata": {},
   "outputs": [
    {
     "data": {
      "text/plain": [
       "'c'"
      ]
     },
     "execution_count": 18,
     "metadata": {},
     "output_type": "execute_result"
    }
   ],
   "source": [
    "# 마지막 인덱스 가져오기\n",
    "lang[-1]"
   ]
  },
  {
   "cell_type": "code",
   "execution_count": 20,
   "id": "8820b02f-3bff-49ff-a021-902866ee2fe6",
   "metadata": {},
   "outputs": [
    {
     "name": "stdout",
     "output_type": "stream",
     "text": [
      "alpha\n",
      "기타\n",
      "기타\n"
     ]
    }
   ],
   "source": [
    "# 반복문, 조건문 사용하기\n",
    "\n",
    "for i in lang:\n",
    "    if i == 'a':\n",
    "        print('alpha')\n",
    "    else:\n",
    "        print('기타')"
   ]
  },
  {
   "cell_type": "code",
   "execution_count": 26,
   "id": "95012017-d9d5-4994-a6ab-645bf6a86f14",
   "metadata": {},
   "outputs": [
    {
     "name": "stdout",
     "output_type": "stream",
     "text": [
      "0\n",
      "1\n",
      "2\n"
     ]
    }
   ],
   "source": [
    "# 특정 횟수만큼 반복문 실행\n",
    "\n",
    "count = len(lang)\n",
    "for i in range(count):\n",
    "    print(i)"
   ]
  },
  {
   "cell_type": "code",
   "execution_count": 28,
   "id": "f37f501d-ab75-4dba-b8b7-de320d6548d3",
   "metadata": {},
   "outputs": [
    {
     "name": "stdout",
     "output_type": "stream",
     "text": [
      "홀수\n",
      "짝수\n",
      "홀수\n",
      "짝수\n",
      "홀수\n",
      "짝수\n",
      "홀수\n",
      "짝수\n",
      "홀수\n"
     ]
    }
   ],
   "source": [
    "# 짝수, 홀수 구분하여 출력하기\n",
    "\n",
    "for i in range(1, 10):\n",
    "    if i % 2 == 0:\n",
    "        print('짝수')\n",
    "    else:\n",
    "        print('홀수')"
   ]
  },
  {
   "cell_type": "markdown",
   "id": "02f3443a-f99a-4bf8-bf37-779b1664afb1",
   "metadata": {},
   "source": [
    "- enumerate : 인덱스 번호와 원소를 함께 가져오기   \n",
    "- strip : 앞뒤 공백 제거하기  \n",
    "- len : 문자열의 길이 세기  \n",
    "- split : 공백으로 문자열 분리하기. split의 괄호 안에 넣은 것을 기준으로 문자열을 분리한다.\n",
    "- startswith : 특정 문자로 시작되는지 찾기\n",
    "- in : 특정 문자열을 포함하고 있는지 확인"
   ]
  },
  {
   "cell_type": "code",
   "execution_count": 34,
   "id": "a30d5d95-172f-4c6a-ad86-872bc6f811de",
   "metadata": {},
   "outputs": [
    {
     "name": "stdout",
     "output_type": "stream",
     "text": [
      "0 a\n",
      "1 b\n",
      "2 c\n"
     ]
    }
   ],
   "source": [
    "# enumerate : 인덱스 번호와 원소를 함께 가져오기\n",
    "\n",
    "for i, val in enumerate(lang):\n",
    "    print(i, val)"
   ]
  },
  {
   "cell_type": "code",
   "execution_count": 40,
   "id": "9a6f0f1f-7df1-4c13-b6f2-eb5c633d9254",
   "metadata": {},
   "outputs": [
    {
     "name": "stdout",
     "output_type": "stream",
     "text": [
      " 경기 성남시 분당구 정자일로 95 \n",
      "경기 성남시 분당구 정자일로 95\n"
     ]
    }
   ],
   "source": [
    "# strip : 앞뒤 공백 제거하기\n",
    "address = ' 경기 성남시 분당구 정자일로 95 '\n",
    "print(address)\n",
    "\n",
    "address = address.strip()\n",
    "print(address)"
   ]
  },
  {
   "cell_type": "code",
   "execution_count": 42,
   "id": "33935fe4-3d5a-4335-b542-63cf221b05a7",
   "metadata": {},
   "outputs": [
    {
     "data": {
      "text/plain": [
       "18"
      ]
     },
     "execution_count": 42,
     "metadata": {},
     "output_type": "execute_result"
    }
   ],
   "source": [
    "# len : 문자열의 길이 세기\n",
    "len(address)"
   ]
  },
  {
   "cell_type": "code",
   "execution_count": 44,
   "id": "e78afa28-e45b-400d-b3cc-2bd64e271905",
   "metadata": {},
   "outputs": [
    {
     "name": "stdout",
     "output_type": "stream",
     "text": [
      "['경기', '성남시', '분당구', '정자일로', '95']\n",
      "5\n"
     ]
    }
   ],
   "source": [
    "# split : 공백으로 문쟈열 분리하기\n",
    "address_list= address.split()\n",
    "print(address_list)\n",
    "\n",
    "print(len(address_list))"
   ]
  },
  {
   "cell_type": "code",
   "execution_count": 46,
   "id": "5193dba4-0f71-46b5-8049-42c73361c7ad",
   "metadata": {},
   "outputs": [
    {
     "data": {
      "text/plain": [
       "['경기 성남', ' 분당구 정자일로 95']"
      ]
     },
     "execution_count": 46,
     "metadata": {},
     "output_type": "execute_result"
    }
   ],
   "source": [
    "# split의 괄호 안에 넣은 것을 기준으로 문자열을 분리한다.\n",
    "address.split('시')"
   ]
  },
  {
   "cell_type": "markdown",
   "id": "863e3d87-db12-41e9-a722-176bc22a4792",
   "metadata": {},
   "source": [
    "- slicing, startswith, in을 통해 문자열에 경기가 있는지 확인하기"
   ]
  },
  {
   "cell_type": "code",
   "execution_count": 51,
   "id": "b4ed3f7a-7650-47b3-9f29-acabbefeab81",
   "metadata": {},
   "outputs": [
    {
     "data": {
      "text/plain": [
       "'경기'"
      ]
     },
     "execution_count": 51,
     "metadata": {},
     "output_type": "execute_result"
    }
   ],
   "source": [
    "# slicing으로 '경기' 출력하기\n",
    "address[:2]"
   ]
  },
  {
   "cell_type": "code",
   "execution_count": 53,
   "id": "d7a88086-63c3-4e38-8583-84af788804f2",
   "metadata": {},
   "outputs": [
    {
     "data": {
      "text/plain": [
       "True"
      ]
     },
     "execution_count": 53,
     "metadata": {},
     "output_type": "execute_result"
    }
   ],
   "source": [
    "# startswith : 특정 문자로 시작되는지 찾기\n",
    "\n",
    "address.startswith('경기')"
   ]
  },
  {
   "cell_type": "code",
   "execution_count": 56,
   "id": "544933b1-b485-49f4-8d84-a22798ac1813",
   "metadata": {},
   "outputs": [
    {
     "data": {
      "text/plain": [
       "True"
      ]
     },
     "execution_count": 56,
     "metadata": {},
     "output_type": "execute_result"
    }
   ],
   "source": [
    "# in : 특정 문자열을 포함하고 있는지 확인\n",
    "\n",
    "'경기' in address"
   ]
  },
  {
   "cell_type": "markdown",
   "id": "b283b43d-1e64-4723-a07e-dec04709aad0",
   "metadata": {},
   "source": [
    "- list에서도 인덱싱은 동일하게 적용된다.  \n",
    "- ''.join : 리스트 내 원소들을 모두 붙여주기. ''에 원하는 기호 등을 넣어주면 그 기호를 원소 사이마다 넣어서 붙여준다."
   ]
  },
  {
   "cell_type": "code",
   "execution_count": 65,
   "id": "80788f84-9871-4841-b3fa-5dbe036448fa",
   "metadata": {},
   "outputs": [
    {
     "data": {
      "text/plain": [
       "'경기성남시분당구정자일로95'"
      ]
     },
     "execution_count": 65,
     "metadata": {},
     "output_type": "execute_result"
    }
   ],
   "source": [
    "# ''.join : 리스트 내 원소들을 모두 붙여주기.\n",
    "''.join(address_list)"
   ]
  },
  {
   "cell_type": "code",
   "execution_count": 67,
   "id": "df6b4e05-d0a5-406d-96ed-9cd3b5735d41",
   "metadata": {},
   "outputs": [
    {
     "data": {
      "text/plain": [
       "['경기', '성남시', '분당구', '정자일로', '95']"
      ]
     },
     "execution_count": 67,
     "metadata": {},
     "output_type": "execute_result"
    }
   ],
   "source": [
    "address_list"
   ]
  },
  {
   "cell_type": "code",
   "execution_count": 69,
   "id": "c8435337-3dc5-4416-9130-948bd994976e",
   "metadata": {},
   "outputs": [
    {
     "data": {
      "text/plain": [
       "'경기 성남시 분당구 정자일로 95'"
      ]
     },
     "execution_count": 69,
     "metadata": {},
     "output_type": "execute_result"
    }
   ],
   "source": [
    "# 공백을 넣어 원소들 붙여주기\n",
    "' '.join(address_list)"
   ]
  },
  {
   "cell_type": "code",
   "execution_count": 73,
   "id": "759d508c-2c9f-42f0-bc9f-5a4d34e9584a",
   "metadata": {},
   "outputs": [
    {
     "data": {
      "text/plain": [
       "True"
      ]
     },
     "execution_count": 73,
     "metadata": {},
     "output_type": "execute_result"
    }
   ],
   "source": [
    "# 리스트에서 in을 사용할 때는 그 원소를 그대로 써서 확인해야 한다.\n",
    "\n",
    "'정자일로' in address_list\n",
    "\n",
    "# '정자' in address_list 라고 실행하면 False라고 뜸"
   ]
  },
  {
   "cell_type": "markdown",
   "id": "1d3a207f-3995-43d6-bf4f-d24ecb13cdfe",
   "metadata": {},
   "source": [
    "## 2-2. 판다스 치트시트를 활용한 기초 익히기\n",
    "\n",
    "링크 안의 내용들 따라해보기!\n",
    "- [10minutes to pandas](https://pandas.pydata.org/docs/user_guide/10min.html)\n",
    "- [pandas cheat sheet](https://pandas.pydata.org/Pandas_Cheat_Sheet.pdf)"
   ]
  },
  {
   "cell_type": "code",
   "execution_count": 88,
   "id": "6685d7bd-a56c-40bc-aad4-8b0f1cd3364b",
   "metadata": {},
   "outputs": [],
   "source": [
    "# 판다스 불러오기\n",
    "\n",
    "import pandas as pd"
   ]
  },
  {
   "cell_type": "code",
   "execution_count": 92,
   "id": "e637fe38-7e06-4a28-92f7-fe15ff4db8eb",
   "metadata": {},
   "outputs": [
    {
     "data": {
      "text/plain": [
       "\u001b[0;31mInit signature:\u001b[0m\n",
       "\u001b[0mpd\u001b[0m\u001b[0;34m.\u001b[0m\u001b[0mDataFrame\u001b[0m\u001b[0;34m(\u001b[0m\u001b[0;34m\u001b[0m\n",
       "\u001b[0;34m\u001b[0m    \u001b[0mdata\u001b[0m\u001b[0;34m=\u001b[0m\u001b[0;32mNone\u001b[0m\u001b[0;34m,\u001b[0m\u001b[0;34m\u001b[0m\n",
       "\u001b[0;34m\u001b[0m    \u001b[0mindex\u001b[0m\u001b[0;34m:\u001b[0m \u001b[0;34m'Axes | None'\u001b[0m \u001b[0;34m=\u001b[0m \u001b[0;32mNone\u001b[0m\u001b[0;34m,\u001b[0m\u001b[0;34m\u001b[0m\n",
       "\u001b[0;34m\u001b[0m    \u001b[0mcolumns\u001b[0m\u001b[0;34m:\u001b[0m \u001b[0;34m'Axes | None'\u001b[0m \u001b[0;34m=\u001b[0m \u001b[0;32mNone\u001b[0m\u001b[0;34m,\u001b[0m\u001b[0;34m\u001b[0m\n",
       "\u001b[0;34m\u001b[0m    \u001b[0mdtype\u001b[0m\u001b[0;34m:\u001b[0m \u001b[0;34m'Dtype | None'\u001b[0m \u001b[0;34m=\u001b[0m \u001b[0;32mNone\u001b[0m\u001b[0;34m,\u001b[0m\u001b[0;34m\u001b[0m\n",
       "\u001b[0;34m\u001b[0m    \u001b[0mcopy\u001b[0m\u001b[0;34m:\u001b[0m \u001b[0;34m'bool | None'\u001b[0m \u001b[0;34m=\u001b[0m \u001b[0;32mNone\u001b[0m\u001b[0;34m,\u001b[0m\u001b[0;34m\u001b[0m\n",
       "\u001b[0;34m\u001b[0m\u001b[0;34m)\u001b[0m \u001b[0;34m->\u001b[0m \u001b[0;34m'None'\u001b[0m\u001b[0;34m\u001b[0m\u001b[0;34m\u001b[0m\u001b[0m\n",
       "\u001b[0;31mDocstring:\u001b[0m     \n",
       "Two-dimensional, size-mutable, potentially heterogeneous tabular data.\n",
       "\n",
       "Data structure also contains labeled axes (rows and columns).\n",
       "Arithmetic operations align on both row and column labels. Can be\n",
       "thought of as a dict-like container for Series objects. The primary\n",
       "pandas data structure.\n",
       "\n",
       "Parameters\n",
       "----------\n",
       "data : ndarray (structured or homogeneous), Iterable, dict, or DataFrame\n",
       "    Dict can contain Series, arrays, constants, dataclass or list-like objects. If\n",
       "    data is a dict, column order follows insertion-order. If a dict contains Series\n",
       "    which have an index defined, it is aligned by its index. This alignment also\n",
       "    occurs if data is a Series or a DataFrame itself. Alignment is done on\n",
       "    Series/DataFrame inputs.\n",
       "\n",
       "    If data is a list of dicts, column order follows insertion-order.\n",
       "\n",
       "index : Index or array-like\n",
       "    Index to use for resulting frame. Will default to RangeIndex if\n",
       "    no indexing information part of input data and no index provided.\n",
       "columns : Index or array-like\n",
       "    Column labels to use for resulting frame when data does not have them,\n",
       "    defaulting to RangeIndex(0, 1, 2, ..., n). If data contains column labels,\n",
       "    will perform column selection instead.\n",
       "dtype : dtype, default None\n",
       "    Data type to force. Only a single dtype is allowed. If None, infer.\n",
       "copy : bool or None, default None\n",
       "    Copy data from inputs.\n",
       "    For dict data, the default of None behaves like ``copy=True``.  For DataFrame\n",
       "    or 2d ndarray input, the default of None behaves like ``copy=False``.\n",
       "    If data is a dict containing one or more Series (possibly of different dtypes),\n",
       "    ``copy=False`` will ensure that these inputs are not copied.\n",
       "\n",
       "    .. versionchanged:: 1.3.0\n",
       "\n",
       "See Also\n",
       "--------\n",
       "DataFrame.from_records : Constructor from tuples, also record arrays.\n",
       "DataFrame.from_dict : From dicts of Series, arrays, or dicts.\n",
       "read_csv : Read a comma-separated values (csv) file into DataFrame.\n",
       "read_table : Read general delimited file into DataFrame.\n",
       "read_clipboard : Read text from clipboard into DataFrame.\n",
       "\n",
       "Notes\n",
       "-----\n",
       "Please reference the :ref:`User Guide <basics.dataframe>` for more information.\n",
       "\n",
       "Examples\n",
       "--------\n",
       "Constructing DataFrame from a dictionary.\n",
       "\n",
       ">>> d = {'col1': [1, 2], 'col2': [3, 4]}\n",
       ">>> df = pd.DataFrame(data=d)\n",
       ">>> df\n",
       "   col1  col2\n",
       "0     1     3\n",
       "1     2     4\n",
       "\n",
       "Notice that the inferred dtype is int64.\n",
       "\n",
       ">>> df.dtypes\n",
       "col1    int64\n",
       "col2    int64\n",
       "dtype: object\n",
       "\n",
       "To enforce a single dtype:\n",
       "\n",
       ">>> df = pd.DataFrame(data=d, dtype=np.int8)\n",
       ">>> df.dtypes\n",
       "col1    int8\n",
       "col2    int8\n",
       "dtype: object\n",
       "\n",
       "Constructing DataFrame from a dictionary including Series:\n",
       "\n",
       ">>> d = {'col1': [0, 1, 2, 3], 'col2': pd.Series([2, 3], index=[2, 3])}\n",
       ">>> pd.DataFrame(data=d, index=[0, 1, 2, 3])\n",
       "   col1  col2\n",
       "0     0   NaN\n",
       "1     1   NaN\n",
       "2     2   2.0\n",
       "3     3   3.0\n",
       "\n",
       "Constructing DataFrame from numpy ndarray:\n",
       "\n",
       ">>> df2 = pd.DataFrame(np.array([[1, 2, 3], [4, 5, 6], [7, 8, 9]]),\n",
       "...                    columns=['a', 'b', 'c'])\n",
       ">>> df2\n",
       "   a  b  c\n",
       "0  1  2  3\n",
       "1  4  5  6\n",
       "2  7  8  9\n",
       "\n",
       "Constructing DataFrame from a numpy ndarray that has labeled columns:\n",
       "\n",
       ">>> data = np.array([(1, 2, 3), (4, 5, 6), (7, 8, 9)],\n",
       "...                 dtype=[(\"a\", \"i4\"), (\"b\", \"i4\"), (\"c\", \"i4\")])\n",
       ">>> df3 = pd.DataFrame(data, columns=['c', 'a'])\n",
       "...\n",
       ">>> df3\n",
       "   c  a\n",
       "0  3  1\n",
       "1  6  4\n",
       "2  9  7\n",
       "\n",
       "Constructing DataFrame from dataclass:\n",
       "\n",
       ">>> from dataclasses import make_dataclass\n",
       ">>> Point = make_dataclass(\"Point\", [(\"x\", int), (\"y\", int)])\n",
       ">>> pd.DataFrame([Point(0, 0), Point(0, 3), Point(2, 3)])\n",
       "   x  y\n",
       "0  0  0\n",
       "1  0  3\n",
       "2  2  3\n",
       "\n",
       "Constructing DataFrame from Series/DataFrame:\n",
       "\n",
       ">>> ser = pd.Series([1, 2, 3], index=[\"a\", \"b\", \"c\"])\n",
       ">>> df = pd.DataFrame(data=ser, index=[\"a\", \"c\"])\n",
       ">>> df\n",
       "   0\n",
       "a  1\n",
       "c  3\n",
       "\n",
       ">>> df1 = pd.DataFrame([1, 2, 3], index=[\"a\", \"b\", \"c\"], columns=[\"x\"])\n",
       ">>> df2 = pd.DataFrame(data=df1, index=[\"a\", \"c\"])\n",
       ">>> df2\n",
       "   x\n",
       "a  1\n",
       "c  3\n",
       "\u001b[0;31mFile:\u001b[0m           /opt/homebrew/anaconda3/lib/python3.11/site-packages/pandas/core/frame.py\n",
       "\u001b[0;31mType:\u001b[0m           type\n",
       "\u001b[0;31mSubclasses:\u001b[0m     SubclassedDataFrame"
      ]
     },
     "metadata": {},
     "output_type": "display_data"
    }
   ],
   "source": [
    "# 판다스 공식문서 활용하기\n",
    "pd.DataFrame?\n",
    "\n",
    "# pd.DataFrame() 작성하고 shift+Tab 눌러도 확인 가능"
   ]
  },
  {
   "cell_type": "code",
   "execution_count": 141,
   "id": "9ad994c8-6e9e-4592-a0e9-23520fec7201",
   "metadata": {},
   "outputs": [
    {
     "data": {
      "text/html": [
       "<div>\n",
       "<style scoped>\n",
       "    .dataframe tbody tr th:only-of-type {\n",
       "        vertical-align: middle;\n",
       "    }\n",
       "\n",
       "    .dataframe tbody tr th {\n",
       "        vertical-align: top;\n",
       "    }\n",
       "\n",
       "    .dataframe thead th {\n",
       "        text-align: right;\n",
       "    }\n",
       "</style>\n",
       "<table border=\"1\" class=\"dataframe\">\n",
       "  <thead>\n",
       "    <tr style=\"text-align: right;\">\n",
       "      <th></th>\n",
       "      <th>a</th>\n",
       "      <th>b</th>\n",
       "      <th>c</th>\n",
       "    </tr>\n",
       "  </thead>\n",
       "  <tbody>\n",
       "    <tr>\n",
       "      <th>1</th>\n",
       "      <td>4</td>\n",
       "      <td>7</td>\n",
       "      <td>10</td>\n",
       "    </tr>\n",
       "    <tr>\n",
       "      <th>2</th>\n",
       "      <td>5</td>\n",
       "      <td>8</td>\n",
       "      <td>11</td>\n",
       "    </tr>\n",
       "    <tr>\n",
       "      <th>3</th>\n",
       "      <td>6</td>\n",
       "      <td>9</td>\n",
       "      <td>12</td>\n",
       "    </tr>\n",
       "    <tr>\n",
       "      <th>4</th>\n",
       "      <td>4</td>\n",
       "      <td>9</td>\n",
       "      <td>10</td>\n",
       "    </tr>\n",
       "  </tbody>\n",
       "</table>\n",
       "</div>"
      ],
      "text/plain": [
       "   a  b   c\n",
       "1  4  7  10\n",
       "2  5  8  11\n",
       "3  6  9  12\n",
       "4  4  9  10"
      ]
     },
     "execution_count": 141,
     "metadata": {},
     "output_type": "execute_result"
    }
   ],
   "source": [
    "df = pd.DataFrame(\n",
    "{\"a\" : [4, 5, 6, 4],\n",
    "\"b\" : [7, 8, 9, 9],\n",
    "\"c\" : [10, 11, 12, 10]},\n",
    "index = [1, 2, 3, 4])\n",
    "\n",
    "df"
   ]
  },
  {
   "cell_type": "markdown",
   "id": "c5b2ec3f-268d-4d9e-afe0-93f009e106de",
   "metadata": {},
   "source": [
    "### Series와 Dataframe\n",
    "- Series : 1차원 데이터. 수학적으로는 벡터. 데이터프레임에서 단일 행 또는 단일 열을 가져왔을 때 나타나는 형태\n",
    "- Dataframe : 2차원 데이터. 수학적으로는 행렬."
   ]
  },
  {
   "cell_type": "code",
   "execution_count": 99,
   "id": "0b0efb5e-ba65-4f56-8e3d-ea4fba5ca4e6",
   "metadata": {},
   "outputs": [
    {
     "data": {
      "text/plain": [
       "1    4\n",
       "2    5\n",
       "3    6\n",
       "Name: a, dtype: int64"
      ]
     },
     "execution_count": 99,
     "metadata": {},
     "output_type": "execute_result"
    }
   ],
   "source": [
    "# Series\n",
    "df['a']"
   ]
  },
  {
   "cell_type": "code",
   "execution_count": 101,
   "id": "cfe1c352-6eb9-4df4-8341-e7ad05978aae",
   "metadata": {},
   "outputs": [
    {
     "data": {
      "text/html": [
       "<div>\n",
       "<style scoped>\n",
       "    .dataframe tbody tr th:only-of-type {\n",
       "        vertical-align: middle;\n",
       "    }\n",
       "\n",
       "    .dataframe tbody tr th {\n",
       "        vertical-align: top;\n",
       "    }\n",
       "\n",
       "    .dataframe thead th {\n",
       "        text-align: right;\n",
       "    }\n",
       "</style>\n",
       "<table border=\"1\" class=\"dataframe\">\n",
       "  <thead>\n",
       "    <tr style=\"text-align: right;\">\n",
       "      <th></th>\n",
       "      <th>a</th>\n",
       "    </tr>\n",
       "  </thead>\n",
       "  <tbody>\n",
       "    <tr>\n",
       "      <th>1</th>\n",
       "      <td>4</td>\n",
       "    </tr>\n",
       "    <tr>\n",
       "      <th>2</th>\n",
       "      <td>5</td>\n",
       "    </tr>\n",
       "    <tr>\n",
       "      <th>3</th>\n",
       "      <td>6</td>\n",
       "    </tr>\n",
       "  </tbody>\n",
       "</table>\n",
       "</div>"
      ],
      "text/plain": [
       "   a\n",
       "1  4\n",
       "2  5\n",
       "3  6"
      ]
     },
     "execution_count": 101,
     "metadata": {},
     "output_type": "execute_result"
    }
   ],
   "source": [
    "# Dataframe : 대괄호 [] 를 한 번 더 써준다.\n",
    "df[['a']]"
   ]
  },
  {
   "cell_type": "markdown",
   "id": "321e5e4e-5e0c-4305-820f-79226227651c",
   "metadata": {},
   "source": [
    "### Subset"
   ]
  },
  {
   "cell_type": "code",
   "execution_count": 104,
   "id": "7c521833-2120-4c2f-ad88-f62b7592e410",
   "metadata": {},
   "outputs": [
    {
     "data": {
      "text/plain": [
       "1    False\n",
       "2     True\n",
       "3     True\n",
       "Name: a, dtype: bool"
      ]
     },
     "execution_count": 104,
     "metadata": {},
     "output_type": "execute_result"
    }
   ],
   "source": [
    "# Rows(행)을 기준으로\n",
    "df['a'] > 4"
   ]
  },
  {
   "cell_type": "code",
   "execution_count": 118,
   "id": "e48e60d0-0206-4719-9d25-9c16c855ab8d",
   "metadata": {},
   "outputs": [
    {
     "data": {
      "text/html": [
       "<div>\n",
       "<style scoped>\n",
       "    .dataframe tbody tr th:only-of-type {\n",
       "        vertical-align: middle;\n",
       "    }\n",
       "\n",
       "    .dataframe tbody tr th {\n",
       "        vertical-align: top;\n",
       "    }\n",
       "\n",
       "    .dataframe thead th {\n",
       "        text-align: right;\n",
       "    }\n",
       "</style>\n",
       "<table border=\"1\" class=\"dataframe\">\n",
       "  <thead>\n",
       "    <tr style=\"text-align: right;\">\n",
       "      <th></th>\n",
       "      <th>a</th>\n",
       "      <th>b</th>\n",
       "      <th>c</th>\n",
       "    </tr>\n",
       "  </thead>\n",
       "  <tbody>\n",
       "    <tr>\n",
       "      <th>2</th>\n",
       "      <td>5</td>\n",
       "      <td>8</td>\n",
       "      <td>11</td>\n",
       "    </tr>\n",
       "    <tr>\n",
       "      <th>3</th>\n",
       "      <td>6</td>\n",
       "      <td>9</td>\n",
       "      <td>12</td>\n",
       "    </tr>\n",
       "  </tbody>\n",
       "</table>\n",
       "</div>"
      ],
      "text/plain": [
       "   a  b   c\n",
       "2  5  8  11\n",
       "3  6  9  12"
      ]
     },
     "execution_count": 118,
     "metadata": {},
     "output_type": "execute_result"
    }
   ],
   "source": [
    "# 전체에서 해당 조건에 맞는 데이터프레임을 가져오기 : 조건 전체에 대괄호 씌워주고, 맨 앞에 데이터프레임명 붙여주기\n",
    "df[df['a'] > 4]"
   ]
  },
  {
   "cell_type": "code",
   "execution_count": 124,
   "id": "bfc437e7-8704-4e5a-9a4d-0ecf8121dd53",
   "metadata": {},
   "outputs": [
    {
     "data": {
      "text/plain": [
       "1    4\n",
       "2    5\n",
       "3    6\n",
       "Name: a, dtype: int64"
      ]
     },
     "execution_count": 124,
     "metadata": {},
     "output_type": "execute_result"
    }
   ],
   "source": [
    "# Columns(열)을 기준으로 \n",
    "\n",
    "df['a']"
   ]
  },
  {
   "cell_type": "code",
   "execution_count": 126,
   "id": "5cd55973-d62f-4a94-a450-296d29b25b73",
   "metadata": {},
   "outputs": [
    {
     "data": {
      "text/html": [
       "<div>\n",
       "<style scoped>\n",
       "    .dataframe tbody tr th:only-of-type {\n",
       "        vertical-align: middle;\n",
       "    }\n",
       "\n",
       "    .dataframe tbody tr th {\n",
       "        vertical-align: top;\n",
       "    }\n",
       "\n",
       "    .dataframe thead th {\n",
       "        text-align: right;\n",
       "    }\n",
       "</style>\n",
       "<table border=\"1\" class=\"dataframe\">\n",
       "  <thead>\n",
       "    <tr style=\"text-align: right;\">\n",
       "      <th></th>\n",
       "      <th>a</th>\n",
       "      <th>b</th>\n",
       "    </tr>\n",
       "  </thead>\n",
       "  <tbody>\n",
       "    <tr>\n",
       "      <th>1</th>\n",
       "      <td>4</td>\n",
       "      <td>7</td>\n",
       "    </tr>\n",
       "    <tr>\n",
       "      <th>2</th>\n",
       "      <td>5</td>\n",
       "      <td>8</td>\n",
       "    </tr>\n",
       "    <tr>\n",
       "      <th>3</th>\n",
       "      <td>6</td>\n",
       "      <td>9</td>\n",
       "    </tr>\n",
       "  </tbody>\n",
       "</table>\n",
       "</div>"
      ],
      "text/plain": [
       "   a  b\n",
       "1  4  7\n",
       "2  5  8\n",
       "3  6  9"
      ]
     },
     "execution_count": 126,
     "metadata": {},
     "output_type": "execute_result"
    }
   ],
   "source": [
    "# Columns(열)을 기준으로 : 2개 이상의 열을 가져올 땐 대괄호를 한 번 더 사용하여 리스트 형태로 써준다.\n",
    "df[['a', 'b']]"
   ]
  },
  {
   "cell_type": "markdown",
   "id": "f7c82207-83b9-4733-927e-4d940c632053",
   "metadata": {},
   "source": [
    "### Summarize Data\n",
    "- 빈도수, 데이터 로우 개수 세기"
   ]
  },
  {
   "cell_type": "code",
   "execution_count": null,
   "id": "eaeca626-2a4d-4edd-832d-1b3f2320be3f",
   "metadata": {},
   "outputs": [],
   "source": []
  },
  {
   "cell_type": "code",
   "execution_count": 131,
   "id": "3e65cb25-f5be-45f1-8dd2-434f55a4f9e0",
   "metadata": {},
   "outputs": [
    {
     "data": {
      "text/plain": [
       "a\n",
       "4    1\n",
       "5    1\n",
       "6    1\n",
       "Name: count, dtype: int64"
      ]
     },
     "execution_count": 131,
     "metadata": {},
     "output_type": "execute_result"
    }
   ],
   "source": [
    "# .value_counts() : 해당 컬럼 내 값의 빈도수 확인하기 (몇 번 나오는지)\n",
    "\n",
    "df['a'].value_counts()"
   ]
  },
  {
   "cell_type": "code",
   "execution_count": 143,
   "id": "91fe1fdf-3ae0-4a43-b1ea-89fdb1650eae",
   "metadata": {},
   "outputs": [
    {
     "data": {
      "text/plain": [
       "4"
      ]
     },
     "execution_count": 143,
     "metadata": {},
     "output_type": "execute_result"
    }
   ],
   "source": [
    "# len() : 데이터프레임 로우 개수(길이) 세기\n",
    "len(df)"
   ]
  },
  {
   "cell_type": "markdown",
   "id": "bcb9c303-2ac2-4ac8-b963-3f8e7a26cffb",
   "metadata": {},
   "source": [
    "### Reshaping\n",
    "#### sort_values, drop\n",
    "- sort_values : 컬럼의 값들을 순서대로 정리. 오름차순이 디폴트값.\n",
    "- drop : 행 또는 열을 통째로 삭제. 열이 디폴트값."
   ]
  },
  {
   "cell_type": "code",
   "execution_count": 145,
   "id": "44d8e66d-a611-40f7-bf44-95ac03e62d1c",
   "metadata": {},
   "outputs": [
    {
     "data": {
      "text/plain": [
       "1    4\n",
       "4    4\n",
       "2    5\n",
       "3    6\n",
       "Name: a, dtype: int64"
      ]
     },
     "execution_count": 145,
     "metadata": {},
     "output_type": "execute_result"
    }
   ],
   "source": [
    "# .sort_values() : 컬럼의 값들을 오름차순으로 정리\n",
    "\n",
    "df['a'].sort_values()"
   ]
  },
  {
   "cell_type": "code",
   "execution_count": 153,
   "id": "2a092c1e-181c-4e9c-90ad-a65af0dbaaa1",
   "metadata": {},
   "outputs": [
    {
     "data": {
      "text/html": [
       "<div>\n",
       "<style scoped>\n",
       "    .dataframe tbody tr th:only-of-type {\n",
       "        vertical-align: middle;\n",
       "    }\n",
       "\n",
       "    .dataframe tbody tr th {\n",
       "        vertical-align: top;\n",
       "    }\n",
       "\n",
       "    .dataframe thead th {\n",
       "        text-align: right;\n",
       "    }\n",
       "</style>\n",
       "<table border=\"1\" class=\"dataframe\">\n",
       "  <thead>\n",
       "    <tr style=\"text-align: right;\">\n",
       "      <th></th>\n",
       "      <th>a</th>\n",
       "      <th>b</th>\n",
       "      <th>c</th>\n",
       "    </tr>\n",
       "  </thead>\n",
       "  <tbody>\n",
       "    <tr>\n",
       "      <th>1</th>\n",
       "      <td>4</td>\n",
       "      <td>7</td>\n",
       "      <td>10</td>\n",
       "    </tr>\n",
       "    <tr>\n",
       "      <th>4</th>\n",
       "      <td>4</td>\n",
       "      <td>9</td>\n",
       "      <td>10</td>\n",
       "    </tr>\n",
       "    <tr>\n",
       "      <th>2</th>\n",
       "      <td>5</td>\n",
       "      <td>8</td>\n",
       "      <td>11</td>\n",
       "    </tr>\n",
       "    <tr>\n",
       "      <th>3</th>\n",
       "      <td>6</td>\n",
       "      <td>9</td>\n",
       "      <td>12</td>\n",
       "    </tr>\n",
       "  </tbody>\n",
       "</table>\n",
       "</div>"
      ],
      "text/plain": [
       "   a  b   c\n",
       "1  4  7  10\n",
       "4  4  9  10\n",
       "2  5  8  11\n",
       "3  6  9  12"
      ]
     },
     "execution_count": 153,
     "metadata": {},
     "output_type": "execute_result"
    }
   ],
   "source": [
    "# 데이터프레임 전체를 a 컬럼을 기준으로 정리\n",
    "df.sort_values('a')"
   ]
  },
  {
   "cell_type": "code",
   "execution_count": 157,
   "id": "46902bc8-8a66-41f5-92a9-4f76cd7fa6e0",
   "metadata": {},
   "outputs": [
    {
     "data": {
      "text/html": [
       "<div>\n",
       "<style scoped>\n",
       "    .dataframe tbody tr th:only-of-type {\n",
       "        vertical-align: middle;\n",
       "    }\n",
       "\n",
       "    .dataframe tbody tr th {\n",
       "        vertical-align: top;\n",
       "    }\n",
       "\n",
       "    .dataframe thead th {\n",
       "        text-align: right;\n",
       "    }\n",
       "</style>\n",
       "<table border=\"1\" class=\"dataframe\">\n",
       "  <thead>\n",
       "    <tr style=\"text-align: right;\">\n",
       "      <th></th>\n",
       "      <th>a</th>\n",
       "      <th>b</th>\n",
       "      <th>c</th>\n",
       "    </tr>\n",
       "  </thead>\n",
       "  <tbody>\n",
       "    <tr>\n",
       "      <th>3</th>\n",
       "      <td>6</td>\n",
       "      <td>9</td>\n",
       "      <td>12</td>\n",
       "    </tr>\n",
       "    <tr>\n",
       "      <th>2</th>\n",
       "      <td>5</td>\n",
       "      <td>8</td>\n",
       "      <td>11</td>\n",
       "    </tr>\n",
       "    <tr>\n",
       "      <th>1</th>\n",
       "      <td>4</td>\n",
       "      <td>7</td>\n",
       "      <td>10</td>\n",
       "    </tr>\n",
       "    <tr>\n",
       "      <th>4</th>\n",
       "      <td>4</td>\n",
       "      <td>9</td>\n",
       "      <td>10</td>\n",
       "    </tr>\n",
       "  </tbody>\n",
       "</table>\n",
       "</div>"
      ],
      "text/plain": [
       "   a  b   c\n",
       "3  6  9  12\n",
       "2  5  8  11\n",
       "1  4  7  10\n",
       "4  4  9  10"
      ]
     },
     "execution_count": 157,
     "metadata": {},
     "output_type": "execute_result"
    }
   ],
   "source": [
    "# # 데이터프레임 전체를 a 컬럼을 기준으로 + 내림차순으로 정리\n",
    "\n",
    "df.sort_values('a', ascending=False)"
   ]
  },
  {
   "cell_type": "code",
   "execution_count": 162,
   "id": "8b3cf22d-5d51-4b83-93da-3f37f2e76348",
   "metadata": {},
   "outputs": [
    {
     "data": {
      "text/html": [
       "<div>\n",
       "<style scoped>\n",
       "    .dataframe tbody tr th:only-of-type {\n",
       "        vertical-align: middle;\n",
       "    }\n",
       "\n",
       "    .dataframe tbody tr th {\n",
       "        vertical-align: top;\n",
       "    }\n",
       "\n",
       "    .dataframe thead th {\n",
       "        text-align: right;\n",
       "    }\n",
       "</style>\n",
       "<table border=\"1\" class=\"dataframe\">\n",
       "  <thead>\n",
       "    <tr style=\"text-align: right;\">\n",
       "      <th></th>\n",
       "      <th>a</th>\n",
       "      <th>b</th>\n",
       "    </tr>\n",
       "  </thead>\n",
       "  <tbody>\n",
       "    <tr>\n",
       "      <th>1</th>\n",
       "      <td>4</td>\n",
       "      <td>7</td>\n",
       "    </tr>\n",
       "    <tr>\n",
       "      <th>2</th>\n",
       "      <td>5</td>\n",
       "      <td>8</td>\n",
       "    </tr>\n",
       "    <tr>\n",
       "      <th>3</th>\n",
       "      <td>6</td>\n",
       "      <td>9</td>\n",
       "    </tr>\n",
       "    <tr>\n",
       "      <th>4</th>\n",
       "      <td>4</td>\n",
       "      <td>9</td>\n",
       "    </tr>\n",
       "  </tbody>\n",
       "</table>\n",
       "</div>"
      ],
      "text/plain": [
       "   a  b\n",
       "1  4  7\n",
       "2  5  8\n",
       "3  6  9\n",
       "4  4  9"
      ]
     },
     "execution_count": 162,
     "metadata": {},
     "output_type": "execute_result"
    }
   ],
   "source": [
    "# drop : 열 또는 행을 통째로 삭제. \n",
    "# 열이 디폴트 값. 행을 삭제하고 싶을 때는 axis=1 로 설정\n",
    "\n",
    "df = df.drop(['c'], axis=1)\n",
    "df"
   ]
  },
  {
   "cell_type": "markdown",
   "id": "2170d0fd-8a9d-460f-a527-fb6b5aaa123c",
   "metadata": {},
   "source": [
    "### Group data\n",
    "#### groupby, pivot_table\n",
    "통계를 확인할 때 활용"
   ]
  },
  {
   "cell_type": "code",
   "execution_count": 174,
   "id": "e3e2bf85-dc08-484b-bd1a-65998017630b",
   "metadata": {},
   "outputs": [
    {
     "data": {
      "text/plain": [
       "a\n",
       "4    8.0\n",
       "5    8.0\n",
       "6    9.0\n",
       "Name: b, dtype: float64"
      ]
     },
     "execution_count": 174,
     "metadata": {},
     "output_type": "execute_result"
    }
   ],
   "source": [
    "# groupby : 데이터들을 일정한 규칙에 따라 그룹으로 묶어서 데이터를 처리하거나 통계를 확인할 때 사용\n",
    "\n",
    "# 컬럼 a에 있는 값들을 기준으로 컬럼 b의 값들을 처리 (여기서는 평균을 냄)\n",
    "df.groupby(['a'])['b'].mean()"
   ]
  },
  {
   "cell_type": "code",
   "execution_count": 176,
   "id": "70ea40a1-1c9d-426f-ba66-8b2c041681e5",
   "metadata": {},
   "outputs": [
    {
     "data": {
      "text/html": [
       "<div>\n",
       "<style scoped>\n",
       "    .dataframe tbody tr th:only-of-type {\n",
       "        vertical-align: middle;\n",
       "    }\n",
       "\n",
       "    .dataframe tbody tr th {\n",
       "        vertical-align: top;\n",
       "    }\n",
       "\n",
       "    .dataframe thead th {\n",
       "        text-align: right;\n",
       "    }\n",
       "</style>\n",
       "<table border=\"1\" class=\"dataframe\">\n",
       "  <thead>\n",
       "    <tr style=\"text-align: right;\">\n",
       "      <th></th>\n",
       "      <th>mean</th>\n",
       "      <th>sum</th>\n",
       "      <th>count</th>\n",
       "    </tr>\n",
       "    <tr>\n",
       "      <th>a</th>\n",
       "      <th></th>\n",
       "      <th></th>\n",
       "      <th></th>\n",
       "    </tr>\n",
       "  </thead>\n",
       "  <tbody>\n",
       "    <tr>\n",
       "      <th>4</th>\n",
       "      <td>8.0</td>\n",
       "      <td>16</td>\n",
       "      <td>2</td>\n",
       "    </tr>\n",
       "    <tr>\n",
       "      <th>5</th>\n",
       "      <td>8.0</td>\n",
       "      <td>8</td>\n",
       "      <td>1</td>\n",
       "    </tr>\n",
       "    <tr>\n",
       "      <th>6</th>\n",
       "      <td>9.0</td>\n",
       "      <td>9</td>\n",
       "      <td>1</td>\n",
       "    </tr>\n",
       "  </tbody>\n",
       "</table>\n",
       "</div>"
      ],
      "text/plain": [
       "   mean  sum  count\n",
       "a                  \n",
       "4   8.0   16      2\n",
       "5   8.0    8      1\n",
       "6   9.0    9      1"
      ]
     },
     "execution_count": 176,
     "metadata": {},
     "output_type": "execute_result"
    }
   ],
   "source": [
    "# agg : 평균, 합계 등 여러 값들을 한 번에 보고 싶을 때\n",
    "\n",
    "df.groupby(['a'])['b'].agg(['mean', 'sum', 'count'])"
   ]
  },
  {
   "cell_type": "code",
   "execution_count": 178,
   "id": "3ba04e57-711c-4e21-87d8-68ecb69094b5",
   "metadata": {},
   "outputs": [
    {
     "data": {
      "text/html": [
       "<div>\n",
       "<style scoped>\n",
       "    .dataframe tbody tr th:only-of-type {\n",
       "        vertical-align: middle;\n",
       "    }\n",
       "\n",
       "    .dataframe tbody tr th {\n",
       "        vertical-align: top;\n",
       "    }\n",
       "\n",
       "    .dataframe thead th {\n",
       "        text-align: right;\n",
       "    }\n",
       "</style>\n",
       "<table border=\"1\" class=\"dataframe\">\n",
       "  <thead>\n",
       "    <tr style=\"text-align: right;\">\n",
       "      <th></th>\n",
       "      <th>count</th>\n",
       "      <th>mean</th>\n",
       "      <th>std</th>\n",
       "      <th>min</th>\n",
       "      <th>25%</th>\n",
       "      <th>50%</th>\n",
       "      <th>75%</th>\n",
       "      <th>max</th>\n",
       "    </tr>\n",
       "    <tr>\n",
       "      <th>a</th>\n",
       "      <th></th>\n",
       "      <th></th>\n",
       "      <th></th>\n",
       "      <th></th>\n",
       "      <th></th>\n",
       "      <th></th>\n",
       "      <th></th>\n",
       "      <th></th>\n",
       "    </tr>\n",
       "  </thead>\n",
       "  <tbody>\n",
       "    <tr>\n",
       "      <th>4</th>\n",
       "      <td>2.0</td>\n",
       "      <td>8.0</td>\n",
       "      <td>1.414214</td>\n",
       "      <td>7.0</td>\n",
       "      <td>7.5</td>\n",
       "      <td>8.0</td>\n",
       "      <td>8.5</td>\n",
       "      <td>9.0</td>\n",
       "    </tr>\n",
       "    <tr>\n",
       "      <th>5</th>\n",
       "      <td>1.0</td>\n",
       "      <td>8.0</td>\n",
       "      <td>NaN</td>\n",
       "      <td>8.0</td>\n",
       "      <td>8.0</td>\n",
       "      <td>8.0</td>\n",
       "      <td>8.0</td>\n",
       "      <td>8.0</td>\n",
       "    </tr>\n",
       "    <tr>\n",
       "      <th>6</th>\n",
       "      <td>1.0</td>\n",
       "      <td>9.0</td>\n",
       "      <td>NaN</td>\n",
       "      <td>9.0</td>\n",
       "      <td>9.0</td>\n",
       "      <td>9.0</td>\n",
       "      <td>9.0</td>\n",
       "      <td>9.0</td>\n",
       "    </tr>\n",
       "  </tbody>\n",
       "</table>\n",
       "</div>"
      ],
      "text/plain": [
       "   count  mean       std  min  25%  50%  75%  max\n",
       "a                                                \n",
       "4    2.0   8.0  1.414214  7.0  7.5  8.0  8.5  9.0\n",
       "5    1.0   8.0       NaN  8.0  8.0  8.0  8.0  8.0\n",
       "6    1.0   9.0       NaN  9.0  9.0  9.0  9.0  9.0"
      ]
     },
     "execution_count": 178,
     "metadata": {},
     "output_type": "execute_result"
    }
   ],
   "source": [
    "# .describe() : 여러 주요 값들을 한 번에 보기\n",
    "\n",
    "df.groupby(['a'])['b'].describe()"
   ]
  },
  {
   "cell_type": "code",
   "execution_count": 203,
   "id": "f60a54b6-5b70-4f56-812e-b9b523c08bee",
   "metadata": {},
   "outputs": [
    {
     "data": {
      "text/html": [
       "<div>\n",
       "<style scoped>\n",
       "    .dataframe tbody tr th:only-of-type {\n",
       "        vertical-align: middle;\n",
       "    }\n",
       "\n",
       "    .dataframe tbody tr th {\n",
       "        vertical-align: top;\n",
       "    }\n",
       "\n",
       "    .dataframe thead th {\n",
       "        text-align: right;\n",
       "    }\n",
       "</style>\n",
       "<table border=\"1\" class=\"dataframe\">\n",
       "  <thead>\n",
       "    <tr style=\"text-align: right;\">\n",
       "      <th></th>\n",
       "      <th>b</th>\n",
       "    </tr>\n",
       "    <tr>\n",
       "      <th>a</th>\n",
       "      <th></th>\n",
       "    </tr>\n",
       "  </thead>\n",
       "  <tbody>\n",
       "    <tr>\n",
       "      <th>4</th>\n",
       "      <td>8.0</td>\n",
       "    </tr>\n",
       "    <tr>\n",
       "      <th>5</th>\n",
       "      <td>8.0</td>\n",
       "    </tr>\n",
       "    <tr>\n",
       "      <th>6</th>\n",
       "      <td>9.0</td>\n",
       "    </tr>\n",
       "  </tbody>\n",
       "</table>\n",
       "</div>"
      ],
      "text/plain": [
       "     b\n",
       "a     \n",
       "4  8.0\n",
       "5  8.0\n",
       "6  9.0"
      ]
     },
     "execution_count": 203,
     "metadata": {},
     "output_type": "execute_result"
    }
   ],
   "source": [
    "# pivot_table : 데이터 열 중에서 두 개의 열을 각각 행 인덱스, 열 인덱스로 사용하여 데이터를 조회하여 펼쳐놓은 것\n",
    "\n",
    "pd.pivot_table(df, index='a')"
   ]
  },
  {
   "cell_type": "markdown",
   "id": "ad1bcc63-ab14-44ee-afae-af1f0910d8b2",
   "metadata": {},
   "source": [
    "> - shift+tab을 누르면 해당 메서드에 대한 도움말 확인 가능  \n",
    "> - pivot_table에서 aggfunc: 'AggFuncType' = 'mean' 이 기본값으로 되어있음"
   ]
  },
  {
   "cell_type": "code",
   "execution_count": 184,
   "id": "08314fdf-e023-4445-a1c3-672538912fd4",
   "metadata": {},
   "outputs": [
    {
     "data": {
      "text/html": [
       "<div>\n",
       "<style scoped>\n",
       "    .dataframe tbody tr th:only-of-type {\n",
       "        vertical-align: middle;\n",
       "    }\n",
       "\n",
       "    .dataframe tbody tr th {\n",
       "        vertical-align: top;\n",
       "    }\n",
       "\n",
       "    .dataframe thead th {\n",
       "        text-align: right;\n",
       "    }\n",
       "</style>\n",
       "<table border=\"1\" class=\"dataframe\">\n",
       "  <thead>\n",
       "    <tr style=\"text-align: right;\">\n",
       "      <th></th>\n",
       "      <th>b</th>\n",
       "    </tr>\n",
       "    <tr>\n",
       "      <th>a</th>\n",
       "      <th></th>\n",
       "    </tr>\n",
       "  </thead>\n",
       "  <tbody>\n",
       "    <tr>\n",
       "      <th>4</th>\n",
       "      <td>16</td>\n",
       "    </tr>\n",
       "    <tr>\n",
       "      <th>5</th>\n",
       "      <td>8</td>\n",
       "    </tr>\n",
       "    <tr>\n",
       "      <th>6</th>\n",
       "      <td>9</td>\n",
       "    </tr>\n",
       "  </tbody>\n",
       "</table>\n",
       "</div>"
      ],
      "text/plain": [
       "    b\n",
       "a    \n",
       "4  16\n",
       "5   8\n",
       "6   9"
      ]
     },
     "execution_count": 184,
     "metadata": {},
     "output_type": "execute_result"
    }
   ],
   "source": [
    "# values : 처리할 값 지정하기\n",
    "# aggfunc : 구할 값 지정하기\n",
    "\n",
    "pd.pivot_table(df, index='a', values='b', aggfunc='sum')"
   ]
  },
  {
   "cell_type": "markdown",
   "id": "138aed6d-80fb-49d3-9692-1a4134a869e1",
   "metadata": {},
   "source": [
    "### Plotting"
   ]
  },
  {
   "cell_type": "code",
   "execution_count": 192,
   "id": "67198e2b-7dff-4286-8588-5eb65f43e403",
   "metadata": {},
   "outputs": [
    {
     "data": {
      "text/plain": [
       "<Axes: >"
      ]
     },
     "execution_count": 192,
     "metadata": {},
     "output_type": "execute_result"
    },
    {
     "data": {
      "image/png": "[encoded data removed]",
      "text/plain": [
       "<Figure size 640x480 with 1 Axes>"
      ]
     },
     "metadata": {},
     "output_type": "display_data"
    }
   ],
   "source": [
    "# df.plot() : 그래프 그리기\n",
    "\n",
    "df.plot()"
   ]
  },
  {
   "cell_type": "code",
   "execution_count": 198,
   "id": "ea397421-8c11-4a88-818e-2cd81442c98c",
   "metadata": {},
   "outputs": [
    {
     "data": {
      "text/plain": [
       "<Axes: >"
      ]
     },
     "execution_count": 198,
     "metadata": {},
     "output_type": "execute_result"
    },
    {
     "data": {
      "image/png": "[encoded data removed]",
      "text/plain": [
       "<Figure size 640x480 with 1 Axes>"
      ]
     },
     "metadata": {},
     "output_type": "display_data"
    }
   ],
   "source": [
    "# df.plot. 작성하고 tab키 누르면 다양한 시각화(그래프) 선택 가능\n",
    "# 마지막에 꼭 괄호 써주기!!\n",
    "\n",
    "df.plot.area()"
   ]
  },
  {
   "cell_type": "markdown",
   "id": "824c0c73-316d-465d-9096-d1189fef3561",
   "metadata": {},
   "source": [
    "- [참고: 피봇테이블 활용](https://yganalyst.github.io/data_handling/Pd_14/#google_vignette)"
   ]
  },
  {
   "cell_type": "markdown",
   "id": "89dc8572-861d-4c73-8dfb-d3e98b76da8a",
   "metadata": {},
   "source": [
    "## 2-3. 파일 경로 설정 방법\n",
    "### 1. 절대 경로\n",
    "- 절대 경로 : 어떠한 웹페이지나 파일이 가진 고유한 경로로, 최상위 디렉토리가 포함된 경로\n",
    "- ex) file:///Users/user/Downloads/\n",
    "- ex)C:\\user\\documents\n",
    "\n",
    "### 2. 상대 경로\n",
    "- 상대 경로 : 현재 위치한 곳을 기준으로 하는 경로\n",
    "- /는 루트\n",
    "- ./는 현재 위치\n",
    "- ../는 현재 위치의 상위 폴더\n",
    "- ../../는 두 단계 위의 상위 폴더를 의미"
   ]
  },
  {
   "cell_type": "code",
   "execution_count": 4,
   "id": "867b6cd7-685f-4629-aac3-cf5551374d19",
   "metadata": {},
   "outputs": [
    {
     "data": {
      "text/plain": [
       "'/Users/yangh/Documents/naver_coachingstudy'"
      ]
     },
     "execution_count": 4,
     "metadata": {},
     "output_type": "execute_result"
    }
   ],
   "source": [
    "# 실습 파일 경로 확인\n",
    "%pwd"
   ]
  },
  {
   "cell_type": "code",
   "execution_count": 6,
   "id": "6e75bbd6-b7ce-4f4a-b0b2-4ee95619f7f5",
   "metadata": {},
   "outputs": [
    {
     "data": {
      "text/plain": [
       "'/Users/yangh/Documents/naver_coachingstudy'"
      ]
     },
     "execution_count": 6,
     "metadata": {},
     "output_type": "execute_result"
    }
   ],
   "source": [
    "pwd"
   ]
  },
  {
   "cell_type": "code",
   "execution_count": 8,
   "id": "c1bd13b9-2529-4c15-967e-f219b8af035f",
   "metadata": {},
   "outputs": [
    {
     "data": {
      "text/plain": [
       "'/Users/yangh/Documents/naver_coachingstudy'"
      ]
     },
     "execution_count": 8,
     "metadata": {},
     "output_type": "execute_result"
    }
   ],
   "source": [
    "# 실습 파일 경로 확인 02\n",
    "import os\n",
    "os.getcwd()"
   ]
  },
  {
   "cell_type": "markdown",
   "id": "23b0360c-c95b-4496-97e1-4198ef7d68e4",
   "metadata": {},
   "source": [
    "#### 파일 불러오기\n",
    "- 불러오려는 파일의 위치가 현재 작업 중인 파일과 같은 레벨에 있는지? 상위 혹은 하위 레벨에 있는지? 확인하여 불러와야 한다.\n",
    "- 여기에서는 실습 주피터노트북과 동일한 레벨에 data라는 폴더가 있고 그 안에(하위) 불러오려는 파일(csv)가 있기 때문에 아래와 같이 작성한다.\n",
    "\n",
    "[교통사고 통계 링크](https://www.data.go.kr/data/15070318/fileData.do)"
   ]
  },
  {
   "cell_type": "code",
   "execution_count": 10,
   "id": "b54d8162-cf5d-4814-a5fd-381f71e77aab",
   "metadata": {},
   "outputs": [
    {
     "ename": "UnicodeDecodeError",
     "evalue": "'utf-8' codec can't decode byte 0xb9 in position 0: invalid start byte",
     "output_type": "error",
     "traceback": [
      "\u001b[0;31m---------------------------------------------------------------------------\u001b[0m",
      "\u001b[0;31mUnicodeDecodeError\u001b[0m                        Traceback (most recent call last)",
      "Cell \u001b[0;32mIn[10], line 4\u001b[0m\n\u001b[1;32m      1\u001b[0m \u001b[38;5;66;03m# 파일 불러오기\u001b[39;00m\n\u001b[1;32m      3\u001b[0m \u001b[38;5;28;01mimport\u001b[39;00m \u001b[38;5;21;01mpandas\u001b[39;00m \u001b[38;5;28;01mas\u001b[39;00m \u001b[38;5;21;01mpd\u001b[39;00m\n\u001b[0;32m----> 4\u001b[0m pd\u001b[38;5;241m.\u001b[39mread_csv(\u001b[38;5;124m'\u001b[39m\u001b[38;5;124mdata/도로교통공단_월별 주야별 교통사고 통계_20231231.csv\u001b[39m\u001b[38;5;124m'\u001b[39m)\n",
      "File \u001b[0;32m/opt/homebrew/anaconda3/lib/python3.11/site-packages/pandas/io/parsers/readers.py:948\u001b[0m, in \u001b[0;36mread_csv\u001b[0;34m(filepath_or_buffer, sep, delimiter, header, names, index_col, usecols, dtype, engine, converters, true_values, false_values, skipinitialspace, skiprows, skipfooter, nrows, na_values, keep_default_na, na_filter, verbose, skip_blank_lines, parse_dates, infer_datetime_format, keep_date_col, date_parser, date_format, dayfirst, cache_dates, iterator, chunksize, compression, thousands, decimal, lineterminator, quotechar, quoting, doublequote, escapechar, comment, encoding, encoding_errors, dialect, on_bad_lines, delim_whitespace, low_memory, memory_map, float_precision, storage_options, dtype_backend)\u001b[0m\n\u001b[1;32m    935\u001b[0m kwds_defaults \u001b[38;5;241m=\u001b[39m _refine_defaults_read(\n\u001b[1;32m    936\u001b[0m     dialect,\n\u001b[1;32m    937\u001b[0m     delimiter,\n\u001b[0;32m   (...)\u001b[0m\n\u001b[1;32m    944\u001b[0m     dtype_backend\u001b[38;5;241m=\u001b[39mdtype_backend,\n\u001b[1;32m    945\u001b[0m )\n\u001b[1;32m    946\u001b[0m kwds\u001b[38;5;241m.\u001b[39mupdate(kwds_defaults)\n\u001b[0;32m--> 948\u001b[0m \u001b[38;5;28;01mreturn\u001b[39;00m _read(filepath_or_buffer, kwds)\n",
      "File \u001b[0;32m/opt/homebrew/anaconda3/lib/python3.11/site-packages/pandas/io/parsers/readers.py:611\u001b[0m, in \u001b[0;36m_read\u001b[0;34m(filepath_or_buffer, kwds)\u001b[0m\n\u001b[1;32m    608\u001b[0m _validate_names(kwds\u001b[38;5;241m.\u001b[39mget(\u001b[38;5;124m\"\u001b[39m\u001b[38;5;124mnames\u001b[39m\u001b[38;5;124m\"\u001b[39m, \u001b[38;5;28;01mNone\u001b[39;00m))\n\u001b[1;32m    610\u001b[0m \u001b[38;5;66;03m# Create the parser.\u001b[39;00m\n\u001b[0;32m--> 611\u001b[0m parser \u001b[38;5;241m=\u001b[39m TextFileReader(filepath_or_buffer, \u001b[38;5;241m*\u001b[39m\u001b[38;5;241m*\u001b[39mkwds)\n\u001b[1;32m    613\u001b[0m \u001b[38;5;28;01mif\u001b[39;00m chunksize \u001b[38;5;129;01mor\u001b[39;00m iterator:\n\u001b[1;32m    614\u001b[0m     \u001b[38;5;28;01mreturn\u001b[39;00m parser\n",
      "File \u001b[0;32m/opt/homebrew/anaconda3/lib/python3.11/site-packages/pandas/io/parsers/readers.py:1448\u001b[0m, in \u001b[0;36mTextFileReader.__init__\u001b[0;34m(self, f, engine, **kwds)\u001b[0m\n\u001b[1;32m   1445\u001b[0m     \u001b[38;5;28mself\u001b[39m\u001b[38;5;241m.\u001b[39moptions[\u001b[38;5;124m\"\u001b[39m\u001b[38;5;124mhas_index_names\u001b[39m\u001b[38;5;124m\"\u001b[39m] \u001b[38;5;241m=\u001b[39m kwds[\u001b[38;5;124m\"\u001b[39m\u001b[38;5;124mhas_index_names\u001b[39m\u001b[38;5;124m\"\u001b[39m]\n\u001b[1;32m   1447\u001b[0m \u001b[38;5;28mself\u001b[39m\u001b[38;5;241m.\u001b[39mhandles: IOHandles \u001b[38;5;241m|\u001b[39m \u001b[38;5;28;01mNone\u001b[39;00m \u001b[38;5;241m=\u001b[39m \u001b[38;5;28;01mNone\u001b[39;00m\n\u001b[0;32m-> 1448\u001b[0m \u001b[38;5;28mself\u001b[39m\u001b[38;5;241m.\u001b[39m_engine \u001b[38;5;241m=\u001b[39m \u001b[38;5;28mself\u001b[39m\u001b[38;5;241m.\u001b[39m_make_engine(f, \u001b[38;5;28mself\u001b[39m\u001b[38;5;241m.\u001b[39mengine)\n",
      "File \u001b[0;32m/opt/homebrew/anaconda3/lib/python3.11/site-packages/pandas/io/parsers/readers.py:1723\u001b[0m, in \u001b[0;36mTextFileReader._make_engine\u001b[0;34m(self, f, engine)\u001b[0m\n\u001b[1;32m   1720\u001b[0m     \u001b[38;5;28;01mraise\u001b[39;00m \u001b[38;5;167;01mValueError\u001b[39;00m(msg)\n\u001b[1;32m   1722\u001b[0m \u001b[38;5;28;01mtry\u001b[39;00m:\n\u001b[0;32m-> 1723\u001b[0m     \u001b[38;5;28;01mreturn\u001b[39;00m mapping[engine](f, \u001b[38;5;241m*\u001b[39m\u001b[38;5;241m*\u001b[39m\u001b[38;5;28mself\u001b[39m\u001b[38;5;241m.\u001b[39moptions)\n\u001b[1;32m   1724\u001b[0m \u001b[38;5;28;01mexcept\u001b[39;00m \u001b[38;5;167;01mException\u001b[39;00m:\n\u001b[1;32m   1725\u001b[0m     \u001b[38;5;28;01mif\u001b[39;00m \u001b[38;5;28mself\u001b[39m\u001b[38;5;241m.\u001b[39mhandles \u001b[38;5;129;01mis\u001b[39;00m \u001b[38;5;129;01mnot\u001b[39;00m \u001b[38;5;28;01mNone\u001b[39;00m:\n",
      "File \u001b[0;32m/opt/homebrew/anaconda3/lib/python3.11/site-packages/pandas/io/parsers/c_parser_wrapper.py:93\u001b[0m, in \u001b[0;36mCParserWrapper.__init__\u001b[0;34m(self, src, **kwds)\u001b[0m\n\u001b[1;32m     90\u001b[0m \u001b[38;5;28;01mif\u001b[39;00m kwds[\u001b[38;5;124m\"\u001b[39m\u001b[38;5;124mdtype_backend\u001b[39m\u001b[38;5;124m\"\u001b[39m] \u001b[38;5;241m==\u001b[39m \u001b[38;5;124m\"\u001b[39m\u001b[38;5;124mpyarrow\u001b[39m\u001b[38;5;124m\"\u001b[39m:\n\u001b[1;32m     91\u001b[0m     \u001b[38;5;66;03m# Fail here loudly instead of in cython after reading\u001b[39;00m\n\u001b[1;32m     92\u001b[0m     import_optional_dependency(\u001b[38;5;124m\"\u001b[39m\u001b[38;5;124mpyarrow\u001b[39m\u001b[38;5;124m\"\u001b[39m)\n\u001b[0;32m---> 93\u001b[0m \u001b[38;5;28mself\u001b[39m\u001b[38;5;241m.\u001b[39m_reader \u001b[38;5;241m=\u001b[39m parsers\u001b[38;5;241m.\u001b[39mTextReader(src, \u001b[38;5;241m*\u001b[39m\u001b[38;5;241m*\u001b[39mkwds)\n\u001b[1;32m     95\u001b[0m \u001b[38;5;28mself\u001b[39m\u001b[38;5;241m.\u001b[39munnamed_cols \u001b[38;5;241m=\u001b[39m \u001b[38;5;28mself\u001b[39m\u001b[38;5;241m.\u001b[39m_reader\u001b[38;5;241m.\u001b[39munnamed_cols\n\u001b[1;32m     97\u001b[0m \u001b[38;5;66;03m# error: Cannot determine type of 'names'\u001b[39;00m\n",
      "File \u001b[0;32mparsers.pyx:579\u001b[0m, in \u001b[0;36mpandas._libs.parsers.TextReader.__cinit__\u001b[0;34m()\u001b[0m\n",
      "File \u001b[0;32mparsers.pyx:668\u001b[0m, in \u001b[0;36mpandas._libs.parsers.TextReader._get_header\u001b[0;34m()\u001b[0m\n",
      "File \u001b[0;32mparsers.pyx:879\u001b[0m, in \u001b[0;36mpandas._libs.parsers.TextReader._tokenize_rows\u001b[0;34m()\u001b[0m\n",
      "File \u001b[0;32mparsers.pyx:890\u001b[0m, in \u001b[0;36mpandas._libs.parsers.TextReader._check_tokenize_status\u001b[0;34m()\u001b[0m\n",
      "File \u001b[0;32mparsers.pyx:2050\u001b[0m, in \u001b[0;36mpandas._libs.parsers.raise_parser_error\u001b[0;34m()\u001b[0m\n",
      "\u001b[0;31mUnicodeDecodeError\u001b[0m: 'utf-8' codec can't decode byte 0xb9 in position 0: invalid start byte"
     ]
    }
   ],
   "source": [
    "# 파일 불러오기\n",
    "\n",
    "import pandas as pd\n",
    "pd.read_csv('data/도로교통공단_월별 주야별 교통사고 통계_20231231.csv')"
   ]
  },
  {
   "cell_type": "markdown",
   "id": "78eeab64-e4a4-49fd-9f47-afa574d5e35c",
   "metadata": {},
   "source": [
    "- UnicodeDecodeError 는 인코딩이 필요할 때 발생하는 오류  \n",
    "일반적으로 'utf-8'를 사용하여 불러오기 때문에 한글 파일을 불러올 때는 encoding='cp949' 를 해줘야 한다."
   ]
  },
  {
   "cell_type": "code",
   "execution_count": 22,
   "id": "8eac6cdd-db2b-4504-a60c-73580d4cbcc8",
   "metadata": {},
   "outputs": [
    {
     "data": {
      "text/html": [
       "<div>\n",
       "<style scoped>\n",
       "    .dataframe tbody tr th:only-of-type {\n",
       "        vertical-align: middle;\n",
       "    }\n",
       "\n",
       "    .dataframe tbody tr th {\n",
       "        vertical-align: top;\n",
       "    }\n",
       "\n",
       "    .dataframe thead th {\n",
       "        text-align: right;\n",
       "    }\n",
       "</style>\n",
       "<table border=\"1\" class=\"dataframe\">\n",
       "  <thead>\n",
       "    <tr style=\"text-align: right;\">\n",
       "      <th></th>\n",
       "      <th>발생월</th>\n",
       "      <th>주야</th>\n",
       "      <th>사고건수</th>\n",
       "      <th>사망자수</th>\n",
       "      <th>중상자수</th>\n",
       "      <th>경상자수</th>\n",
       "      <th>부상신고자수</th>\n",
       "    </tr>\n",
       "  </thead>\n",
       "  <tbody>\n",
       "    <tr>\n",
       "      <th>0</th>\n",
       "      <td>1</td>\n",
       "      <td>주</td>\n",
       "      <td>8682</td>\n",
       "      <td>98</td>\n",
       "      <td>2209</td>\n",
       "      <td>9440</td>\n",
       "      <td>759</td>\n",
       "    </tr>\n",
       "    <tr>\n",
       "      <th>1</th>\n",
       "      <td>1</td>\n",
       "      <td>야</td>\n",
       "      <td>5798</td>\n",
       "      <td>92</td>\n",
       "      <td>1539</td>\n",
       "      <td>6349</td>\n",
       "      <td>530</td>\n",
       "    </tr>\n",
       "    <tr>\n",
       "      <th>2</th>\n",
       "      <td>2</td>\n",
       "      <td>주</td>\n",
       "      <td>8056</td>\n",
       "      <td>95</td>\n",
       "      <td>2149</td>\n",
       "      <td>8710</td>\n",
       "      <td>710</td>\n",
       "    </tr>\n",
       "    <tr>\n",
       "      <th>3</th>\n",
       "      <td>2</td>\n",
       "      <td>야</td>\n",
       "      <td>5228</td>\n",
       "      <td>86</td>\n",
       "      <td>1419</td>\n",
       "      <td>5553</td>\n",
       "      <td>500</td>\n",
       "    </tr>\n",
       "    <tr>\n",
       "      <th>4</th>\n",
       "      <td>3</td>\n",
       "      <td>주</td>\n",
       "      <td>10393</td>\n",
       "      <td>109</td>\n",
       "      <td>2600</td>\n",
       "      <td>11132</td>\n",
       "      <td>880</td>\n",
       "    </tr>\n",
       "    <tr>\n",
       "      <th>5</th>\n",
       "      <td>3</td>\n",
       "      <td>야</td>\n",
       "      <td>5607</td>\n",
       "      <td>78</td>\n",
       "      <td>1449</td>\n",
       "      <td>5930</td>\n",
       "      <td>467</td>\n",
       "    </tr>\n",
       "    <tr>\n",
       "      <th>6</th>\n",
       "      <td>4</td>\n",
       "      <td>주</td>\n",
       "      <td>10460</td>\n",
       "      <td>93</td>\n",
       "      <td>2797</td>\n",
       "      <td>11356</td>\n",
       "      <td>1055</td>\n",
       "    </tr>\n",
       "    <tr>\n",
       "      <th>7</th>\n",
       "      <td>4</td>\n",
       "      <td>야</td>\n",
       "      <td>5876</td>\n",
       "      <td>89</td>\n",
       "      <td>1609</td>\n",
       "      <td>6181</td>\n",
       "      <td>551</td>\n",
       "    </tr>\n",
       "    <tr>\n",
       "      <th>8</th>\n",
       "      <td>5</td>\n",
       "      <td>주</td>\n",
       "      <td>11668</td>\n",
       "      <td>135</td>\n",
       "      <td>3132</td>\n",
       "      <td>12618</td>\n",
       "      <td>1178</td>\n",
       "    </tr>\n",
       "    <tr>\n",
       "      <th>9</th>\n",
       "      <td>5</td>\n",
       "      <td>야</td>\n",
       "      <td>5884</td>\n",
       "      <td>68</td>\n",
       "      <td>1576</td>\n",
       "      <td>6233</td>\n",
       "      <td>603</td>\n",
       "    </tr>\n",
       "    <tr>\n",
       "      <th>10</th>\n",
       "      <td>6</td>\n",
       "      <td>주</td>\n",
       "      <td>10962</td>\n",
       "      <td>114</td>\n",
       "      <td>2881</td>\n",
       "      <td>11797</td>\n",
       "      <td>1092</td>\n",
       "    </tr>\n",
       "    <tr>\n",
       "      <th>11</th>\n",
       "      <td>6</td>\n",
       "      <td>야</td>\n",
       "      <td>5754</td>\n",
       "      <td>88</td>\n",
       "      <td>1601</td>\n",
       "      <td>5893</td>\n",
       "      <td>613</td>\n",
       "    </tr>\n",
       "    <tr>\n",
       "      <th>12</th>\n",
       "      <td>7</td>\n",
       "      <td>주</td>\n",
       "      <td>10647</td>\n",
       "      <td>105</td>\n",
       "      <td>2755</td>\n",
       "      <td>11552</td>\n",
       "      <td>1138</td>\n",
       "    </tr>\n",
       "    <tr>\n",
       "      <th>13</th>\n",
       "      <td>7</td>\n",
       "      <td>야</td>\n",
       "      <td>5931</td>\n",
       "      <td>100</td>\n",
       "      <td>1554</td>\n",
       "      <td>6165</td>\n",
       "      <td>549</td>\n",
       "    </tr>\n",
       "    <tr>\n",
       "      <th>14</th>\n",
       "      <td>8</td>\n",
       "      <td>주</td>\n",
       "      <td>11185</td>\n",
       "      <td>136</td>\n",
       "      <td>2990</td>\n",
       "      <td>12252</td>\n",
       "      <td>1111</td>\n",
       "    </tr>\n",
       "    <tr>\n",
       "      <th>15</th>\n",
       "      <td>8</td>\n",
       "      <td>야</td>\n",
       "      <td>6027</td>\n",
       "      <td>110</td>\n",
       "      <td>1632</td>\n",
       "      <td>6287</td>\n",
       "      <td>641</td>\n",
       "    </tr>\n",
       "    <tr>\n",
       "      <th>16</th>\n",
       "      <td>9</td>\n",
       "      <td>주</td>\n",
       "      <td>11458</td>\n",
       "      <td>130</td>\n",
       "      <td>3063</td>\n",
       "      <td>12396</td>\n",
       "      <td>1119</td>\n",
       "    </tr>\n",
       "    <tr>\n",
       "      <th>17</th>\n",
       "      <td>9</td>\n",
       "      <td>야</td>\n",
       "      <td>6402</td>\n",
       "      <td>109</td>\n",
       "      <td>1777</td>\n",
       "      <td>6559</td>\n",
       "      <td>737</td>\n",
       "    </tr>\n",
       "    <tr>\n",
       "      <th>18</th>\n",
       "      <td>10</td>\n",
       "      <td>주</td>\n",
       "      <td>11039</td>\n",
       "      <td>141</td>\n",
       "      <td>3186</td>\n",
       "      <td>11609</td>\n",
       "      <td>1102</td>\n",
       "    </tr>\n",
       "    <tr>\n",
       "      <th>19</th>\n",
       "      <td>10</td>\n",
       "      <td>야</td>\n",
       "      <td>6294</td>\n",
       "      <td>124</td>\n",
       "      <td>1814</td>\n",
       "      <td>6383</td>\n",
       "      <td>559</td>\n",
       "    </tr>\n",
       "    <tr>\n",
       "      <th>20</th>\n",
       "      <td>11</td>\n",
       "      <td>주</td>\n",
       "      <td>11397</td>\n",
       "      <td>139</td>\n",
       "      <td>3143</td>\n",
       "      <td>12183</td>\n",
       "      <td>1081</td>\n",
       "    </tr>\n",
       "    <tr>\n",
       "      <th>21</th>\n",
       "      <td>11</td>\n",
       "      <td>야</td>\n",
       "      <td>6351</td>\n",
       "      <td>118</td>\n",
       "      <td>1706</td>\n",
       "      <td>6565</td>\n",
       "      <td>620</td>\n",
       "    </tr>\n",
       "    <tr>\n",
       "      <th>22</th>\n",
       "      <td>12</td>\n",
       "      <td>주</td>\n",
       "      <td>10540</td>\n",
       "      <td>107</td>\n",
       "      <td>2691</td>\n",
       "      <td>11407</td>\n",
       "      <td>1003</td>\n",
       "    </tr>\n",
       "    <tr>\n",
       "      <th>23</th>\n",
       "      <td>12</td>\n",
       "      <td>야</td>\n",
       "      <td>6657</td>\n",
       "      <td>87</td>\n",
       "      <td>1717</td>\n",
       "      <td>7019</td>\n",
       "      <td>643</td>\n",
       "    </tr>\n",
       "  </tbody>\n",
       "</table>\n",
       "</div>"
      ],
      "text/plain": [
       "    발생월 주야   사고건수  사망자수  중상자수   경상자수  부상신고자수\n",
       "0     1  주   8682    98  2209   9440     759\n",
       "1     1  야   5798    92  1539   6349     530\n",
       "2     2  주   8056    95  2149   8710     710\n",
       "3     2  야   5228    86  1419   5553     500\n",
       "4     3  주  10393   109  2600  11132     880\n",
       "5     3  야   5607    78  1449   5930     467\n",
       "6     4  주  10460    93  2797  11356    1055\n",
       "7     4  야   5876    89  1609   6181     551\n",
       "8     5  주  11668   135  3132  12618    1178\n",
       "9     5  야   5884    68  1576   6233     603\n",
       "10    6  주  10962   114  2881  11797    1092\n",
       "11    6  야   5754    88  1601   5893     613\n",
       "12    7  주  10647   105  2755  11552    1138\n",
       "13    7  야   5931   100  1554   6165     549\n",
       "14    8  주  11185   136  2990  12252    1111\n",
       "15    8  야   6027   110  1632   6287     641\n",
       "16    9  주  11458   130  3063  12396    1119\n",
       "17    9  야   6402   109  1777   6559     737\n",
       "18   10  주  11039   141  3186  11609    1102\n",
       "19   10  야   6294   124  1814   6383     559\n",
       "20   11  주  11397   139  3143  12183    1081\n",
       "21   11  야   6351   118  1706   6565     620\n",
       "22   12  주  10540   107  2691  11407    1003\n",
       "23   12  야   6657    87  1717   7019     643"
      ]
     },
     "execution_count": 22,
     "metadata": {},
     "output_type": "execute_result"
    }
   ],
   "source": [
    "# 파일 불러오기 01\n",
    "pd.read_csv('data/도로교통공단_월별 주야별 교통사고 통계_20231231.csv', encoding='cp949')"
   ]
  },
  {
   "cell_type": "markdown",
   "id": "aea94fb7-97fb-436a-9fd6-bcf3b6702601",
   "metadata": {},
   "source": [
    "- [glob 공식문서](https://docs.python.org/ko/3/library/glob.html)"
   ]
  },
  {
   "cell_type": "code",
   "execution_count": 28,
   "id": "00cdb4a8-764a-467f-a071-6eafd5b6a9ee",
   "metadata": {},
   "outputs": [
    {
     "data": {
      "text/plain": [
       "['data/도로교통공단_월별 주야별 교통사고 통계_20231231.csv']"
      ]
     },
     "execution_count": 28,
     "metadata": {},
     "output_type": "execute_result"
    }
   ],
   "source": [
    "# 파일 불러오기 02 : glob 활용\n",
    "from glob import glob\n",
    "\n",
    "file_name = glob('data/*')    # data 폴더 내의 '모든(*) 파일 목록'을 불러오기\n",
    "file_name"
   ]
  },
  {
   "cell_type": "code",
   "execution_count": 32,
   "id": "5db2d3f1-2d46-4b96-9ea4-fbb4366c6b66",
   "metadata": {},
   "outputs": [
    {
     "name": "stdout",
     "output_type": "stream",
     "text": [
      "data/도로교통공단_월별 주야별 교통사고 통계_20231231.csv\n",
      "<class 'str'>\n"
     ]
    }
   ],
   "source": [
    "# 폴더 내에 파일이 여러 개인 경우 원하는 파일은 인덱스로 지정하여 불러온다.\n",
    "file_name = glob('data/*')[0]\n",
    "print(file_name)\n",
    "print(type(file_name))"
   ]
  },
  {
   "cell_type": "markdown",
   "id": "d6dccae8-6511-4f17-b8d8-63716828442e",
   "metadata": {},
   "source": [
    "- 위와 같이 불러온 파일을 변수에 담아 활용하면 편리하다.\n",
    "- 변수명을 활용하여 다시 csv파일을 불러와본다."
   ]
  },
  {
   "cell_type": "code",
   "execution_count": 35,
   "id": "82f8fcbe-66a8-43be-8977-1a3cf6ef4b38",
   "metadata": {},
   "outputs": [
    {
     "data": {
      "text/html": [
       "<div>\n",
       "<style scoped>\n",
       "    .dataframe tbody tr th:only-of-type {\n",
       "        vertical-align: middle;\n",
       "    }\n",
       "\n",
       "    .dataframe tbody tr th {\n",
       "        vertical-align: top;\n",
       "    }\n",
       "\n",
       "    .dataframe thead th {\n",
       "        text-align: right;\n",
       "    }\n",
       "</style>\n",
       "<table border=\"1\" class=\"dataframe\">\n",
       "  <thead>\n",
       "    <tr style=\"text-align: right;\">\n",
       "      <th></th>\n",
       "      <th>발생월</th>\n",
       "      <th>주야</th>\n",
       "      <th>사고건수</th>\n",
       "      <th>사망자수</th>\n",
       "      <th>중상자수</th>\n",
       "      <th>경상자수</th>\n",
       "      <th>부상신고자수</th>\n",
       "    </tr>\n",
       "  </thead>\n",
       "  <tbody>\n",
       "    <tr>\n",
       "      <th>0</th>\n",
       "      <td>1</td>\n",
       "      <td>주</td>\n",
       "      <td>8682</td>\n",
       "      <td>98</td>\n",
       "      <td>2209</td>\n",
       "      <td>9440</td>\n",
       "      <td>759</td>\n",
       "    </tr>\n",
       "    <tr>\n",
       "      <th>1</th>\n",
       "      <td>1</td>\n",
       "      <td>야</td>\n",
       "      <td>5798</td>\n",
       "      <td>92</td>\n",
       "      <td>1539</td>\n",
       "      <td>6349</td>\n",
       "      <td>530</td>\n",
       "    </tr>\n",
       "    <tr>\n",
       "      <th>2</th>\n",
       "      <td>2</td>\n",
       "      <td>주</td>\n",
       "      <td>8056</td>\n",
       "      <td>95</td>\n",
       "      <td>2149</td>\n",
       "      <td>8710</td>\n",
       "      <td>710</td>\n",
       "    </tr>\n",
       "    <tr>\n",
       "      <th>3</th>\n",
       "      <td>2</td>\n",
       "      <td>야</td>\n",
       "      <td>5228</td>\n",
       "      <td>86</td>\n",
       "      <td>1419</td>\n",
       "      <td>5553</td>\n",
       "      <td>500</td>\n",
       "    </tr>\n",
       "    <tr>\n",
       "      <th>4</th>\n",
       "      <td>3</td>\n",
       "      <td>주</td>\n",
       "      <td>10393</td>\n",
       "      <td>109</td>\n",
       "      <td>2600</td>\n",
       "      <td>11132</td>\n",
       "      <td>880</td>\n",
       "    </tr>\n",
       "    <tr>\n",
       "      <th>5</th>\n",
       "      <td>3</td>\n",
       "      <td>야</td>\n",
       "      <td>5607</td>\n",
       "      <td>78</td>\n",
       "      <td>1449</td>\n",
       "      <td>5930</td>\n",
       "      <td>467</td>\n",
       "    </tr>\n",
       "    <tr>\n",
       "      <th>6</th>\n",
       "      <td>4</td>\n",
       "      <td>주</td>\n",
       "      <td>10460</td>\n",
       "      <td>93</td>\n",
       "      <td>2797</td>\n",
       "      <td>11356</td>\n",
       "      <td>1055</td>\n",
       "    </tr>\n",
       "    <tr>\n",
       "      <th>7</th>\n",
       "      <td>4</td>\n",
       "      <td>야</td>\n",
       "      <td>5876</td>\n",
       "      <td>89</td>\n",
       "      <td>1609</td>\n",
       "      <td>6181</td>\n",
       "      <td>551</td>\n",
       "    </tr>\n",
       "    <tr>\n",
       "      <th>8</th>\n",
       "      <td>5</td>\n",
       "      <td>주</td>\n",
       "      <td>11668</td>\n",
       "      <td>135</td>\n",
       "      <td>3132</td>\n",
       "      <td>12618</td>\n",
       "      <td>1178</td>\n",
       "    </tr>\n",
       "    <tr>\n",
       "      <th>9</th>\n",
       "      <td>5</td>\n",
       "      <td>야</td>\n",
       "      <td>5884</td>\n",
       "      <td>68</td>\n",
       "      <td>1576</td>\n",
       "      <td>6233</td>\n",
       "      <td>603</td>\n",
       "    </tr>\n",
       "    <tr>\n",
       "      <th>10</th>\n",
       "      <td>6</td>\n",
       "      <td>주</td>\n",
       "      <td>10962</td>\n",
       "      <td>114</td>\n",
       "      <td>2881</td>\n",
       "      <td>11797</td>\n",
       "      <td>1092</td>\n",
       "    </tr>\n",
       "    <tr>\n",
       "      <th>11</th>\n",
       "      <td>6</td>\n",
       "      <td>야</td>\n",
       "      <td>5754</td>\n",
       "      <td>88</td>\n",
       "      <td>1601</td>\n",
       "      <td>5893</td>\n",
       "      <td>613</td>\n",
       "    </tr>\n",
       "    <tr>\n",
       "      <th>12</th>\n",
       "      <td>7</td>\n",
       "      <td>주</td>\n",
       "      <td>10647</td>\n",
       "      <td>105</td>\n",
       "      <td>2755</td>\n",
       "      <td>11552</td>\n",
       "      <td>1138</td>\n",
       "    </tr>\n",
       "    <tr>\n",
       "      <th>13</th>\n",
       "      <td>7</td>\n",
       "      <td>야</td>\n",
       "      <td>5931</td>\n",
       "      <td>100</td>\n",
       "      <td>1554</td>\n",
       "      <td>6165</td>\n",
       "      <td>549</td>\n",
       "    </tr>\n",
       "    <tr>\n",
       "      <th>14</th>\n",
       "      <td>8</td>\n",
       "      <td>주</td>\n",
       "      <td>11185</td>\n",
       "      <td>136</td>\n",
       "      <td>2990</td>\n",
       "      <td>12252</td>\n",
       "      <td>1111</td>\n",
       "    </tr>\n",
       "    <tr>\n",
       "      <th>15</th>\n",
       "      <td>8</td>\n",
       "      <td>야</td>\n",
       "      <td>6027</td>\n",
       "      <td>110</td>\n",
       "      <td>1632</td>\n",
       "      <td>6287</td>\n",
       "      <td>641</td>\n",
       "    </tr>\n",
       "    <tr>\n",
       "      <th>16</th>\n",
       "      <td>9</td>\n",
       "      <td>주</td>\n",
       "      <td>11458</td>\n",
       "      <td>130</td>\n",
       "      <td>3063</td>\n",
       "      <td>12396</td>\n",
       "      <td>1119</td>\n",
       "    </tr>\n",
       "    <tr>\n",
       "      <th>17</th>\n",
       "      <td>9</td>\n",
       "      <td>야</td>\n",
       "      <td>6402</td>\n",
       "      <td>109</td>\n",
       "      <td>1777</td>\n",
       "      <td>6559</td>\n",
       "      <td>737</td>\n",
       "    </tr>\n",
       "    <tr>\n",
       "      <th>18</th>\n",
       "      <td>10</td>\n",
       "      <td>주</td>\n",
       "      <td>11039</td>\n",
       "      <td>141</td>\n",
       "      <td>3186</td>\n",
       "      <td>11609</td>\n",
       "      <td>1102</td>\n",
       "    </tr>\n",
       "    <tr>\n",
       "      <th>19</th>\n",
       "      <td>10</td>\n",
       "      <td>야</td>\n",
       "      <td>6294</td>\n",
       "      <td>124</td>\n",
       "      <td>1814</td>\n",
       "      <td>6383</td>\n",
       "      <td>559</td>\n",
       "    </tr>\n",
       "    <tr>\n",
       "      <th>20</th>\n",
       "      <td>11</td>\n",
       "      <td>주</td>\n",
       "      <td>11397</td>\n",
       "      <td>139</td>\n",
       "      <td>3143</td>\n",
       "      <td>12183</td>\n",
       "      <td>1081</td>\n",
       "    </tr>\n",
       "    <tr>\n",
       "      <th>21</th>\n",
       "      <td>11</td>\n",
       "      <td>야</td>\n",
       "      <td>6351</td>\n",
       "      <td>118</td>\n",
       "      <td>1706</td>\n",
       "      <td>6565</td>\n",
       "      <td>620</td>\n",
       "    </tr>\n",
       "    <tr>\n",
       "      <th>22</th>\n",
       "      <td>12</td>\n",
       "      <td>주</td>\n",
       "      <td>10540</td>\n",
       "      <td>107</td>\n",
       "      <td>2691</td>\n",
       "      <td>11407</td>\n",
       "      <td>1003</td>\n",
       "    </tr>\n",
       "    <tr>\n",
       "      <th>23</th>\n",
       "      <td>12</td>\n",
       "      <td>야</td>\n",
       "      <td>6657</td>\n",
       "      <td>87</td>\n",
       "      <td>1717</td>\n",
       "      <td>7019</td>\n",
       "      <td>643</td>\n",
       "    </tr>\n",
       "  </tbody>\n",
       "</table>\n",
       "</div>"
      ],
      "text/plain": [
       "    발생월 주야   사고건수  사망자수  중상자수   경상자수  부상신고자수\n",
       "0     1  주   8682    98  2209   9440     759\n",
       "1     1  야   5798    92  1539   6349     530\n",
       "2     2  주   8056    95  2149   8710     710\n",
       "3     2  야   5228    86  1419   5553     500\n",
       "4     3  주  10393   109  2600  11132     880\n",
       "5     3  야   5607    78  1449   5930     467\n",
       "6     4  주  10460    93  2797  11356    1055\n",
       "7     4  야   5876    89  1609   6181     551\n",
       "8     5  주  11668   135  3132  12618    1178\n",
       "9     5  야   5884    68  1576   6233     603\n",
       "10    6  주  10962   114  2881  11797    1092\n",
       "11    6  야   5754    88  1601   5893     613\n",
       "12    7  주  10647   105  2755  11552    1138\n",
       "13    7  야   5931   100  1554   6165     549\n",
       "14    8  주  11185   136  2990  12252    1111\n",
       "15    8  야   6027   110  1632   6287     641\n",
       "16    9  주  11458   130  3063  12396    1119\n",
       "17    9  야   6402   109  1777   6559     737\n",
       "18   10  주  11039   141  3186  11609    1102\n",
       "19   10  야   6294   124  1814   6383     559\n",
       "20   11  주  11397   139  3143  12183    1081\n",
       "21   11  야   6351   118  1706   6565     620\n",
       "22   12  주  10540   107  2691  11407    1003\n",
       "23   12  야   6657    87  1717   7019     643"
      ]
     },
     "execution_count": 35,
     "metadata": {},
     "output_type": "execute_result"
    }
   ],
   "source": [
    "# csv파일 불러오기\n",
    "\n",
    "pd.read_csv(file_name, encoding='cp949')"
   ]
  },
  {
   "cell_type": "markdown",
   "id": "306004a4-5661-4d9f-8e33-7c7295a12d2d",
   "metadata": {},
   "source": [
    "#### 여러 개의 파일 한 번에 불러오기\n",
    "- 다운로드 받은 소상공인 데이터 파일명을 store로 변경하여 사용하기 편리하게 만든다.\n",
    "- store파일의 절대경로 위치는 /Users/yangh/Documents/naver_coachingstudy/data/store\n",
    "- store파일 내에는 csv, txt 파일들이 있다.\n",
    "\n",
    "[소상공인 파일 링크](https://www.data.go.kr/data/15083033/fileData.do)"
   ]
  },
  {
   "cell_type": "code",
   "execution_count": 41,
   "id": "82f57c97-3a4c-4b2f-9aba-d47d902b1d8d",
   "metadata": {},
   "outputs": [
    {
     "data": {
      "text/plain": [
       "['data/store/[필독]파일열람방법.txt',\n",
       " 'data/store/소상공인시장진흥공단_상가(상권)정보_대구_202406.csv',\n",
       " 'data/store/소상공인시장진흥공단_상가(상권)정보_부산_202406.csv',\n",
       " 'data/store/소상공인시장진흥공단_상가(상권)정보_세종_202406.csv',\n",
       " 'data/store/소상공인시장진흥공단_상가(상권)정보_제주_202406.csv',\n",
       " 'data/store/소상공인시장진흥공단_상가(상권)정보_충남_202406.csv',\n",
       " 'data/store/소상공인시장진흥공단_상가(상권)정보_충북_202406.csv',\n",
       " 'data/store/소상공인시장진흥공단_상가(상권)정보_울산_202406.csv',\n",
       " 'data/store/소상공인시장진흥공단_상가(상권)정보_경기_202406.csv',\n",
       " 'data/store/소상공인시장진흥공단_상가(상권)정보_대전_202406.csv',\n",
       " 'data/store/소상공인시장진흥공단_상가(상권)정보_서울_202406.csv',\n",
       " 'data/store/소상공인시장진흥공단_상가(상권)정보_인천_202406.csv',\n",
       " 'data/store/소상공인시장진흥공단_상가(상권)정보_경남_202406.csv',\n",
       " 'data/store/소상공인시장진흥공단_상가(상권)정보_전남_202406.csv',\n",
       " 'data/store/소상공인시장진흥공단_상가(상권)정보_전북_202406.csv',\n",
       " 'data/store/소상공인시장진흥공단_상가(상권)정보_경북_202406.csv',\n",
       " 'data/store/소상공인시장진흥공단_상가(상권)정보_강원_202406.csv',\n",
       " 'data/store/소상공인시장진흥공단_상가(상권)정보_광주_202406.csv']"
      ]
     },
     "execution_count": 41,
     "metadata": {},
     "output_type": "execute_result"
    }
   ],
   "source": [
    "# 전체 파일 불러오기 : glob를 사용하면 확장자 상관없이 모두 불러올 수 있음\n",
    "glob('data/store/*')"
   ]
  },
  {
   "cell_type": "code",
   "execution_count": 43,
   "id": "7f1a37a8-d234-4df0-9613-1b9390bd1bfa",
   "metadata": {},
   "outputs": [
    {
     "data": {
      "text/plain": [
       "['data/store/소상공인시장진흥공단_상가(상권)정보_대구_202406.csv',\n",
       " 'data/store/소상공인시장진흥공단_상가(상권)정보_부산_202406.csv',\n",
       " 'data/store/소상공인시장진흥공단_상가(상권)정보_세종_202406.csv',\n",
       " 'data/store/소상공인시장진흥공단_상가(상권)정보_제주_202406.csv',\n",
       " 'data/store/소상공인시장진흥공단_상가(상권)정보_충남_202406.csv',\n",
       " 'data/store/소상공인시장진흥공단_상가(상권)정보_충북_202406.csv',\n",
       " 'data/store/소상공인시장진흥공단_상가(상권)정보_울산_202406.csv',\n",
       " 'data/store/소상공인시장진흥공단_상가(상권)정보_경기_202406.csv',\n",
       " 'data/store/소상공인시장진흥공단_상가(상권)정보_대전_202406.csv',\n",
       " 'data/store/소상공인시장진흥공단_상가(상권)정보_서울_202406.csv',\n",
       " 'data/store/소상공인시장진흥공단_상가(상권)정보_인천_202406.csv',\n",
       " 'data/store/소상공인시장진흥공단_상가(상권)정보_경남_202406.csv',\n",
       " 'data/store/소상공인시장진흥공단_상가(상권)정보_전남_202406.csv',\n",
       " 'data/store/소상공인시장진흥공단_상가(상권)정보_전북_202406.csv',\n",
       " 'data/store/소상공인시장진흥공단_상가(상권)정보_경북_202406.csv',\n",
       " 'data/store/소상공인시장진흥공단_상가(상권)정보_강원_202406.csv',\n",
       " 'data/store/소상공인시장진흥공단_상가(상권)정보_광주_202406.csv']"
      ]
     },
     "execution_count": 43,
     "metadata": {},
     "output_type": "execute_result"
    }
   ],
   "source": [
    "# 원하는 파일만 불러오기 01 : csv 파일만 모두 불러오기 \n",
    "glob('data/store/*.csv')"
   ]
  },
  {
   "cell_type": "code",
   "execution_count": 45,
   "id": "19c1310f-150f-430f-9342-235985b6c58c",
   "metadata": {},
   "outputs": [
    {
     "data": {
      "text/plain": [
       "['data/store/소상공인시장진흥공단_상가(상권)정보_대구_202406.csv',\n",
       " 'data/store/소상공인시장진흥공단_상가(상권)정보_부산_202406.csv',\n",
       " 'data/store/소상공인시장진흥공단_상가(상권)정보_세종_202406.csv',\n",
       " 'data/store/소상공인시장진흥공단_상가(상권)정보_제주_202406.csv',\n",
       " 'data/store/소상공인시장진흥공단_상가(상권)정보_충남_202406.csv',\n",
       " 'data/store/소상공인시장진흥공단_상가(상권)정보_충북_202406.csv',\n",
       " 'data/store/소상공인시장진흥공단_상가(상권)정보_울산_202406.csv',\n",
       " 'data/store/소상공인시장진흥공단_상가(상권)정보_경기_202406.csv',\n",
       " 'data/store/소상공인시장진흥공단_상가(상권)정보_대전_202406.csv',\n",
       " 'data/store/소상공인시장진흥공단_상가(상권)정보_서울_202406.csv',\n",
       " 'data/store/소상공인시장진흥공단_상가(상권)정보_인천_202406.csv',\n",
       " 'data/store/소상공인시장진흥공단_상가(상권)정보_경남_202406.csv',\n",
       " 'data/store/소상공인시장진흥공단_상가(상권)정보_전남_202406.csv',\n",
       " 'data/store/소상공인시장진흥공단_상가(상권)정보_전북_202406.csv',\n",
       " 'data/store/소상공인시장진흥공단_상가(상권)정보_경북_202406.csv',\n",
       " 'data/store/소상공인시장진흥공단_상가(상권)정보_강원_202406.csv',\n",
       " 'data/store/소상공인시장진흥공단_상가(상권)정보_광주_202406.csv']"
      ]
     },
     "execution_count": 45,
     "metadata": {},
     "output_type": "execute_result"
    }
   ],
   "source": [
    "# 원하는 파일만 불러오기 02 : 언더바(_)가 있는 csv파일만 모두 불러오기\n",
    "glob('data/store/*_*.csv')"
   ]
  },
  {
   "cell_type": "code",
   "execution_count": 49,
   "id": "3f5f7ddb-4e4e-4247-81b1-ed85b0c3aaab",
   "metadata": {},
   "outputs": [
    {
     "data": {
      "text/plain": [
       "['data/store/소상공인시장진흥공단_상가(상권)정보_대구_202406.csv',\n",
       " 'data/store/소상공인시장진흥공단_상가(상권)정보_부산_202406.csv',\n",
       " 'data/store/소상공인시장진흥공단_상가(상권)정보_세종_202406.csv',\n",
       " 'data/store/소상공인시장진흥공단_상가(상권)정보_제주_202406.csv',\n",
       " 'data/store/소상공인시장진흥공단_상가(상권)정보_충남_202406.csv',\n",
       " 'data/store/소상공인시장진흥공단_상가(상권)정보_충북_202406.csv',\n",
       " 'data/store/소상공인시장진흥공단_상가(상권)정보_울산_202406.csv',\n",
       " 'data/store/소상공인시장진흥공단_상가(상권)정보_경기_202406.csv',\n",
       " 'data/store/소상공인시장진흥공단_상가(상권)정보_대전_202406.csv',\n",
       " 'data/store/소상공인시장진흥공단_상가(상권)정보_서울_202406.csv',\n",
       " 'data/store/소상공인시장진흥공단_상가(상권)정보_인천_202406.csv',\n",
       " 'data/store/소상공인시장진흥공단_상가(상권)정보_경남_202406.csv',\n",
       " 'data/store/소상공인시장진흥공단_상가(상권)정보_전남_202406.csv',\n",
       " 'data/store/소상공인시장진흥공단_상가(상권)정보_전북_202406.csv',\n",
       " 'data/store/소상공인시장진흥공단_상가(상권)정보_경북_202406.csv',\n",
       " 'data/store/소상공인시장진흥공단_상가(상권)정보_강원_202406.csv',\n",
       " 'data/store/소상공인시장진흥공단_상가(상권)정보_광주_202406.csv']"
      ]
     },
     "execution_count": 49,
     "metadata": {},
     "output_type": "execute_result"
    }
   ],
   "source": [
    "# 원하는 파일만 불러오기 03 : '소상'이 들어간 파일만 불러오기\n",
    "# 운영체제마다 인코딩 방식이 다르므로 이럴 떄는 '소상'을 직접 입력하지 말고 위의 출력 결과에서 복붙하면 가능하다\n",
    "\n",
    "glob('data/store/소상*.csv')"
   ]
  },
  {
   "cell_type": "code",
   "execution_count": 51,
   "id": "85691282-6588-4706-b896-daeff0dd2942",
   "metadata": {},
   "outputs": [
    {
     "data": {
      "text/plain": [
       "[]"
      ]
     },
     "execution_count": 51,
     "metadata": {},
     "output_type": "execute_result"
    }
   ],
   "source": [
    "# 직접 '소상'을 입력한 경우\n",
    "glob('data/store/소상*.csv')"
   ]
  },
  {
   "cell_type": "markdown",
   "id": "4b2f4c47-44d0-4cec-83e8-e0e3d11d69ed",
   "metadata": {},
   "source": [
    "1. 원하는 파일 목록 불러와서 변수에 담기"
   ]
  },
  {
   "cell_type": "code",
   "execution_count": 55,
   "id": "decc4296-07c2-48ea-8b04-fa226b548947",
   "metadata": {},
   "outputs": [
    {
     "data": {
      "text/plain": [
       "['data/store/소상공인시장진흥공단_상가(상권)정보_대구_202406.csv',\n",
       " 'data/store/소상공인시장진흥공단_상가(상권)정보_부산_202406.csv',\n",
       " 'data/store/소상공인시장진흥공단_상가(상권)정보_세종_202406.csv',\n",
       " 'data/store/소상공인시장진흥공단_상가(상권)정보_제주_202406.csv',\n",
       " 'data/store/소상공인시장진흥공단_상가(상권)정보_충남_202406.csv',\n",
       " 'data/store/소상공인시장진흥공단_상가(상권)정보_충북_202406.csv',\n",
       " 'data/store/소상공인시장진흥공단_상가(상권)정보_울산_202406.csv',\n",
       " 'data/store/소상공인시장진흥공단_상가(상권)정보_경기_202406.csv',\n",
       " 'data/store/소상공인시장진흥공단_상가(상권)정보_대전_202406.csv',\n",
       " 'data/store/소상공인시장진흥공단_상가(상권)정보_서울_202406.csv',\n",
       " 'data/store/소상공인시장진흥공단_상가(상권)정보_인천_202406.csv',\n",
       " 'data/store/소상공인시장진흥공단_상가(상권)정보_경남_202406.csv',\n",
       " 'data/store/소상공인시장진흥공단_상가(상권)정보_전남_202406.csv',\n",
       " 'data/store/소상공인시장진흥공단_상가(상권)정보_전북_202406.csv',\n",
       " 'data/store/소상공인시장진흥공단_상가(상권)정보_경북_202406.csv',\n",
       " 'data/store/소상공인시장진흥공단_상가(상권)정보_강원_202406.csv',\n",
       " 'data/store/소상공인시장진흥공단_상가(상권)정보_광주_202406.csv']"
      ]
     },
     "execution_count": 55,
     "metadata": {},
     "output_type": "execute_result"
    }
   ],
   "source": [
    "# 파일 목록 불러와서 변수에 담기\n",
    "file_csv = glob('data/store/*.csv')\n",
    "file_csv"
   ]
  },
  {
   "cell_type": "markdown",
   "id": "6858b293-14ac-4039-82f8-6dad3b17a88e",
   "metadata": {},
   "source": [
    "2. 파일에 인코딩이 필요한지 확인하기\n",
    "- 아래와 같이 dataframe이 잘 불러와지면 인코딩 필요 없음!"
   ]
  },
  {
   "cell_type": "code",
   "execution_count": 59,
   "id": "dd91b4df-75d0-4de8-b940-f8184bab4c1e",
   "metadata": {},
   "outputs": [
    {
     "name": "stderr",
     "output_type": "stream",
     "text": [
      "/var/folders/rq/85s8zsjd42lfc1rs77545z540000gn/T/ipykernel_3016/2135214103.py:1: DtypeWarning: Columns (2) have mixed types. Specify dtype option on import or set low_memory=False.\n",
      "  pd.read_csv(file_csv[0])\n"
     ]
    },
    {
     "data": {
      "text/html": [
       "<div>\n",
       "<style scoped>\n",
       "    .dataframe tbody tr th:only-of-type {\n",
       "        vertical-align: middle;\n",
       "    }\n",
       "\n",
       "    .dataframe tbody tr th {\n",
       "        vertical-align: top;\n",
       "    }\n",
       "\n",
       "    .dataframe thead th {\n",
       "        text-align: right;\n",
       "    }\n",
       "</style>\n",
       "<table border=\"1\" class=\"dataframe\">\n",
       "  <thead>\n",
       "    <tr style=\"text-align: right;\">\n",
       "      <th></th>\n",
       "      <th>상가업소번호</th>\n",
       "      <th>상호명</th>\n",
       "      <th>지점명</th>\n",
       "      <th>상권업종대분류코드</th>\n",
       "      <th>상권업종대분류명</th>\n",
       "      <th>상권업종중분류코드</th>\n",
       "      <th>상권업종중분류명</th>\n",
       "      <th>상권업종소분류코드</th>\n",
       "      <th>상권업종소분류명</th>\n",
       "      <th>표준산업분류코드</th>\n",
       "      <th>...</th>\n",
       "      <th>건물관리번호</th>\n",
       "      <th>건물명</th>\n",
       "      <th>도로명주소</th>\n",
       "      <th>구우편번호</th>\n",
       "      <th>신우편번호</th>\n",
       "      <th>동정보</th>\n",
       "      <th>층정보</th>\n",
       "      <th>호정보</th>\n",
       "      <th>경도</th>\n",
       "      <th>위도</th>\n",
       "    </tr>\n",
       "  </thead>\n",
       "  <tbody>\n",
       "    <tr>\n",
       "      <th>0</th>\n",
       "      <td>MA0101202210A0003881</td>\n",
       "      <td>엉클몽키테니스</td>\n",
       "      <td>NaN</td>\n",
       "      <td>R1</td>\n",
       "      <td>예술·스포츠</td>\n",
       "      <td>R103</td>\n",
       "      <td>스포츠 서비스</td>\n",
       "      <td>R10312</td>\n",
       "      <td>테니스장</td>\n",
       "      <td>R91199</td>\n",
       "      <td>...</td>\n",
       "      <td>2729011500114450004013792</td>\n",
       "      <td>NaN</td>\n",
       "      <td>대구광역시 달서구 상원로11길 36</td>\n",
       "      <td>704817</td>\n",
       "      <td>42790</td>\n",
       "      <td>NaN</td>\n",
       "      <td>2</td>\n",
       "      <td>NaN</td>\n",
       "      <td>128.535589</td>\n",
       "      <td>35.813599</td>\n",
       "    </tr>\n",
       "    <tr>\n",
       "      <th>1</th>\n",
       "      <td>MA0101202210A0090318</td>\n",
       "      <td>아보카</td>\n",
       "      <td>NaN</td>\n",
       "      <td>I2</td>\n",
       "      <td>음식</td>\n",
       "      <td>I203</td>\n",
       "      <td>일식</td>\n",
       "      <td>I20301</td>\n",
       "      <td>일식 회/초밥</td>\n",
       "      <td>I56122</td>\n",
       "      <td>...</td>\n",
       "      <td>2729011600110100000000001</td>\n",
       "      <td>NaN</td>\n",
       "      <td>대구광역시 달서구 수밭동길 34</td>\n",
       "      <td>704802</td>\n",
       "      <td>42835</td>\n",
       "      <td>NaN</td>\n",
       "      <td>1</td>\n",
       "      <td>NaN</td>\n",
       "      <td>128.549749</td>\n",
       "      <td>35.795445</td>\n",
       "    </tr>\n",
       "    <tr>\n",
       "      <th>2</th>\n",
       "      <td>MA0101202210A0055790</td>\n",
       "      <td>홍천뚝배기</td>\n",
       "      <td>NaN</td>\n",
       "      <td>I2</td>\n",
       "      <td>음식</td>\n",
       "      <td>I201</td>\n",
       "      <td>한식</td>\n",
       "      <td>I20102</td>\n",
       "      <td>국/탕/찌개류</td>\n",
       "      <td>I56111</td>\n",
       "      <td>...</td>\n",
       "      <td>2723011100113130000000002</td>\n",
       "      <td>NaN</td>\n",
       "      <td>대구광역시 북구 대동로6길 28</td>\n",
       "      <td>702842</td>\n",
       "      <td>41544</td>\n",
       "      <td>NaN</td>\n",
       "      <td>2</td>\n",
       "      <td>NaN</td>\n",
       "      <td>128.609366</td>\n",
       "      <td>35.894844</td>\n",
       "    </tr>\n",
       "    <tr>\n",
       "      <th>3</th>\n",
       "      <td>MA010120220805430823</td>\n",
       "      <td>오느른케이크</td>\n",
       "      <td>NaN</td>\n",
       "      <td>I2</td>\n",
       "      <td>음식</td>\n",
       "      <td>I210</td>\n",
       "      <td>기타 간이</td>\n",
       "      <td>I21001</td>\n",
       "      <td>빵/도넛</td>\n",
       "      <td>I56191</td>\n",
       "      <td>...</td>\n",
       "      <td>2729011700106820025000001</td>\n",
       "      <td>NaN</td>\n",
       "      <td>대구광역시 달서구 진천로9길 78-1</td>\n",
       "      <td>704837</td>\n",
       "      <td>42771</td>\n",
       "      <td>NaN</td>\n",
       "      <td>1</td>\n",
       "      <td>NaN</td>\n",
       "      <td>128.520585</td>\n",
       "      <td>35.812114</td>\n",
       "    </tr>\n",
       "    <tr>\n",
       "      <th>4</th>\n",
       "      <td>MA010120220805430881</td>\n",
       "      <td>대은공인중개사사무소</td>\n",
       "      <td>NaN</td>\n",
       "      <td>L1</td>\n",
       "      <td>부동산</td>\n",
       "      <td>L102</td>\n",
       "      <td>부동산 서비스</td>\n",
       "      <td>L10203</td>\n",
       "      <td>부동산 중개/대리업</td>\n",
       "      <td>L68221</td>\n",
       "      <td>...</td>\n",
       "      <td>2723010900111540000004846</td>\n",
       "      <td>NaN</td>\n",
       "      <td>대구광역시 북구 오봉로 83</td>\n",
       "      <td>702818</td>\n",
       "      <td>41555</td>\n",
       "      <td>NaN</td>\n",
       "      <td>NaN</td>\n",
       "      <td>NaN</td>\n",
       "      <td>128.577909</td>\n",
       "      <td>35.895144</td>\n",
       "    </tr>\n",
       "    <tr>\n",
       "      <th>...</th>\n",
       "      <td>...</td>\n",
       "      <td>...</td>\n",
       "      <td>...</td>\n",
       "      <td>...</td>\n",
       "      <td>...</td>\n",
       "      <td>...</td>\n",
       "      <td>...</td>\n",
       "      <td>...</td>\n",
       "      <td>...</td>\n",
       "      <td>...</td>\n",
       "      <td>...</td>\n",
       "      <td>...</td>\n",
       "      <td>...</td>\n",
       "      <td>...</td>\n",
       "      <td>...</td>\n",
       "      <td>...</td>\n",
       "      <td>...</td>\n",
       "      <td>...</td>\n",
       "      <td>...</td>\n",
       "      <td>...</td>\n",
       "      <td>...</td>\n",
       "    </tr>\n",
       "    <tr>\n",
       "      <th>106292</th>\n",
       "      <td>MA0101202310A0063328</td>\n",
       "      <td>디저트39경대</td>\n",
       "      <td>동문점</td>\n",
       "      <td>I2</td>\n",
       "      <td>음식</td>\n",
       "      <td>I212</td>\n",
       "      <td>비알코올</td>\n",
       "      <td>I21201</td>\n",
       "      <td>카페</td>\n",
       "      <td>I56221</td>\n",
       "      <td>...</td>\n",
       "      <td>2714010100106740020043236</td>\n",
       "      <td>해링턴플레이스동대구아파트</td>\n",
       "      <td>대구광역시 동구 경대로 126</td>\n",
       "      <td>701822</td>\n",
       "      <td>41191</td>\n",
       "      <td>NaN</td>\n",
       "      <td>1</td>\n",
       "      <td>NaN</td>\n",
       "      <td>128.617484</td>\n",
       "      <td>35.888917</td>\n",
       "    </tr>\n",
       "    <tr>\n",
       "      <th>106293</th>\n",
       "      <td>MA0101202310A0062470</td>\n",
       "      <td>라라탕후루</td>\n",
       "      <td>NaN</td>\n",
       "      <td>I2</td>\n",
       "      <td>음식</td>\n",
       "      <td>I201</td>\n",
       "      <td>한식</td>\n",
       "      <td>I20101</td>\n",
       "      <td>백반/한정식</td>\n",
       "      <td>I56111</td>\n",
       "      <td>...</td>\n",
       "      <td>2729012200101070000031886</td>\n",
       "      <td>NaN</td>\n",
       "      <td>대구광역시 달서구 학산로 203</td>\n",
       "      <td>704820</td>\n",
       "      <td>42736</td>\n",
       "      <td>NaN</td>\n",
       "      <td>1</td>\n",
       "      <td>NaN</td>\n",
       "      <td>128.548876</td>\n",
       "      <td>35.834053</td>\n",
       "    </tr>\n",
       "    <tr>\n",
       "      <th>106294</th>\n",
       "      <td>MA0101202311A0005856</td>\n",
       "      <td>도시안스크린골프푸드</td>\n",
       "      <td>NaN</td>\n",
       "      <td>I2</td>\n",
       "      <td>음식</td>\n",
       "      <td>I210</td>\n",
       "      <td>기타 간이</td>\n",
       "      <td>I21099</td>\n",
       "      <td>그 외 기타 간이 음식점</td>\n",
       "      <td>I56199</td>\n",
       "      <td>...</td>\n",
       "      <td>2729012400102250007029611</td>\n",
       "      <td>NaN</td>\n",
       "      <td>대구광역시 달서구 구마로 184</td>\n",
       "      <td>704805</td>\n",
       "      <td>42735</td>\n",
       "      <td>NaN</td>\n",
       "      <td>1</td>\n",
       "      <td>NaN</td>\n",
       "      <td>128.547877</td>\n",
       "      <td>35.836861</td>\n",
       "    </tr>\n",
       "    <tr>\n",
       "      <th>106295</th>\n",
       "      <td>MA0101202311A0005857</td>\n",
       "      <td>행정사김석현사무소</td>\n",
       "      <td>NaN</td>\n",
       "      <td>M1</td>\n",
       "      <td>과학·기술</td>\n",
       "      <td>M103</td>\n",
       "      <td>법무관련</td>\n",
       "      <td>M10306</td>\n",
       "      <td>행정사</td>\n",
       "      <td>M71109</td>\n",
       "      <td>...</td>\n",
       "      <td>2726010400100640005012754</td>\n",
       "      <td>NaN</td>\n",
       "      <td>대구광역시 수성구 명덕로 418</td>\n",
       "      <td>706032</td>\n",
       "      <td>42132</td>\n",
       "      <td>NaN</td>\n",
       "      <td>3</td>\n",
       "      <td>NaN</td>\n",
       "      <td>128.615853</td>\n",
       "      <td>35.854180</td>\n",
       "    </tr>\n",
       "    <tr>\n",
       "      <th>106296</th>\n",
       "      <td>MA0101202310A0033615</td>\n",
       "      <td>더샵푸르지오부동산중개</td>\n",
       "      <td>NaN</td>\n",
       "      <td>L1</td>\n",
       "      <td>부동산</td>\n",
       "      <td>L102</td>\n",
       "      <td>부동산 서비스</td>\n",
       "      <td>L10203</td>\n",
       "      <td>부동산 중개/대리업</td>\n",
       "      <td>L68221</td>\n",
       "      <td>...</td>\n",
       "      <td>2726011200111960007004430</td>\n",
       "      <td>NaN</td>\n",
       "      <td>대구광역시 수성구 용학로42길 26</td>\n",
       "      <td>706844</td>\n",
       "      <td>42219</td>\n",
       "      <td>NaN</td>\n",
       "      <td>1</td>\n",
       "      <td>NaN</td>\n",
       "      <td>128.631018</td>\n",
       "      <td>35.820292</td>\n",
       "    </tr>\n",
       "  </tbody>\n",
       "</table>\n",
       "<p>106297 rows × 39 columns</p>\n",
       "</div>"
      ],
      "text/plain": [
       "                      상가업소번호          상호명  지점명 상권업종대분류코드 상권업종대분류명 상권업종중분류코드  \\\n",
       "0       MA0101202210A0003881      엉클몽키테니스  NaN        R1   예술·스포츠      R103   \n",
       "1       MA0101202210A0090318          아보카  NaN        I2       음식      I203   \n",
       "2       MA0101202210A0055790        홍천뚝배기  NaN        I2       음식      I201   \n",
       "3       MA010120220805430823       오느른케이크  NaN        I2       음식      I210   \n",
       "4       MA010120220805430881   대은공인중개사사무소  NaN        L1      부동산      L102   \n",
       "...                      ...          ...  ...       ...      ...       ...   \n",
       "106292  MA0101202310A0063328      디저트39경대  동문점        I2       음식      I212   \n",
       "106293  MA0101202310A0062470        라라탕후루  NaN        I2       음식      I201   \n",
       "106294  MA0101202311A0005856   도시안스크린골프푸드  NaN        I2       음식      I210   \n",
       "106295  MA0101202311A0005857    행정사김석현사무소  NaN        M1    과학·기술      M103   \n",
       "106296  MA0101202310A0033615  더샵푸르지오부동산중개  NaN        L1      부동산      L102   \n",
       "\n",
       "       상권업종중분류명 상권업종소분류코드       상권업종소분류명 표준산업분류코드  ...  \\\n",
       "0       스포츠 서비스    R10312           테니스장   R91199  ...   \n",
       "1            일식    I20301        일식 회/초밥   I56122  ...   \n",
       "2            한식    I20102        국/탕/찌개류   I56111  ...   \n",
       "3         기타 간이    I21001           빵/도넛   I56191  ...   \n",
       "4       부동산 서비스    L10203     부동산 중개/대리업   L68221  ...   \n",
       "...         ...       ...            ...      ...  ...   \n",
       "106292    비알코올     I21201             카페   I56221  ...   \n",
       "106293       한식    I20101         백반/한정식   I56111  ...   \n",
       "106294    기타 간이    I21099  그 외 기타 간이 음식점   I56199  ...   \n",
       "106295    법무관련     M10306            행정사   M71109  ...   \n",
       "106296  부동산 서비스    L10203     부동산 중개/대리업   L68221  ...   \n",
       "\n",
       "                           건물관리번호            건물명                 도로명주소  \\\n",
       "0       2729011500114450004013792            NaN   대구광역시 달서구 상원로11길 36   \n",
       "1       2729011600110100000000001            NaN     대구광역시 달서구 수밭동길 34   \n",
       "2       2723011100113130000000002            NaN     대구광역시 북구 대동로6길 28   \n",
       "3       2729011700106820025000001            NaN  대구광역시 달서구 진천로9길 78-1   \n",
       "4       2723010900111540000004846            NaN       대구광역시 북구 오봉로 83   \n",
       "...                           ...            ...                   ...   \n",
       "106292  2714010100106740020043236  해링턴플레이스동대구아파트      대구광역시 동구 경대로 126   \n",
       "106293  2729012200101070000031886            NaN     대구광역시 달서구 학산로 203   \n",
       "106294  2729012400102250007029611            NaN     대구광역시 달서구 구마로 184   \n",
       "106295  2726010400100640005012754            NaN     대구광역시 수성구 명덕로 418   \n",
       "106296  2726011200111960007004430            NaN   대구광역시 수성구 용학로42길 26   \n",
       "\n",
       "         구우편번호  신우편번호  동정보  층정보  호정보          경도         위도  \n",
       "0       704817  42790  NaN    2  NaN  128.535589  35.813599  \n",
       "1       704802  42835  NaN    1  NaN  128.549749  35.795445  \n",
       "2       702842  41544  NaN    2  NaN  128.609366  35.894844  \n",
       "3       704837  42771  NaN    1  NaN  128.520585  35.812114  \n",
       "4       702818  41555  NaN  NaN  NaN  128.577909  35.895144  \n",
       "...        ...    ...  ...  ...  ...         ...        ...  \n",
       "106292  701822  41191  NaN    1  NaN  128.617484  35.888917  \n",
       "106293  704820  42736  NaN    1  NaN  128.548876  35.834053  \n",
       "106294  704805  42735  NaN    1  NaN  128.547877  35.836861  \n",
       "106295  706032  42132  NaN    3  NaN  128.615853  35.854180  \n",
       "106296  706844  42219  NaN    1  NaN  128.631018  35.820292  \n",
       "\n",
       "[106297 rows x 39 columns]"
      ]
     },
     "execution_count": 59,
     "metadata": {},
     "output_type": "execute_result"
    }
   ],
   "source": [
    "pd.read_csv(file_csv[0])"
   ]
  },
  {
   "cell_type": "code",
   "execution_count": 64,
   "id": "acc6b247-c96f-43ee-9247-3a8f5aa52040",
   "metadata": {},
   "outputs": [
    {
     "name": "stderr",
     "output_type": "stream",
     "text": [
      "/var/folders/rq/85s8zsjd42lfc1rs77545z540000gn/T/ipykernel_3016/1023632978.py:6: DtypeWarning: Columns (2) have mixed types. Specify dtype option on import or set low_memory=False.\n",
      "  temp = pd.read_csv(file_csv_name)\n",
      "/var/folders/rq/85s8zsjd42lfc1rs77545z540000gn/T/ipykernel_3016/1023632978.py:6: DtypeWarning: Columns (2) have mixed types. Specify dtype option on import or set low_memory=False.\n",
      "  temp = pd.read_csv(file_csv_name)\n",
      "/var/folders/rq/85s8zsjd42lfc1rs77545z540000gn/T/ipykernel_3016/1023632978.py:6: DtypeWarning: Columns (2) have mixed types. Specify dtype option on import or set low_memory=False.\n",
      "  temp = pd.read_csv(file_csv_name)\n",
      "/var/folders/rq/85s8zsjd42lfc1rs77545z540000gn/T/ipykernel_3016/1023632978.py:6: DtypeWarning: Columns (2) have mixed types. Specify dtype option on import or set low_memory=False.\n",
      "  temp = pd.read_csv(file_csv_name)\n",
      "/var/folders/rq/85s8zsjd42lfc1rs77545z540000gn/T/ipykernel_3016/1023632978.py:6: DtypeWarning: Columns (2) have mixed types. Specify dtype option on import or set low_memory=False.\n",
      "  temp = pd.read_csv(file_csv_name)\n",
      "/var/folders/rq/85s8zsjd42lfc1rs77545z540000gn/T/ipykernel_3016/1023632978.py:6: DtypeWarning: Columns (2,35) have mixed types. Specify dtype option on import or set low_memory=False.\n",
      "  temp = pd.read_csv(file_csv_name)\n",
      "/var/folders/rq/85s8zsjd42lfc1rs77545z540000gn/T/ipykernel_3016/1023632978.py:6: DtypeWarning: Columns (2) have mixed types. Specify dtype option on import or set low_memory=False.\n",
      "  temp = pd.read_csv(file_csv_name)\n",
      "/var/folders/rq/85s8zsjd42lfc1rs77545z540000gn/T/ipykernel_3016/1023632978.py:6: DtypeWarning: Columns (2) have mixed types. Specify dtype option on import or set low_memory=False.\n",
      "  temp = pd.read_csv(file_csv_name)\n",
      "/var/folders/rq/85s8zsjd42lfc1rs77545z540000gn/T/ipykernel_3016/1023632978.py:6: DtypeWarning: Columns (2) have mixed types. Specify dtype option on import or set low_memory=False.\n",
      "  temp = pd.read_csv(file_csv_name)\n",
      "/var/folders/rq/85s8zsjd42lfc1rs77545z540000gn/T/ipykernel_3016/1023632978.py:6: DtypeWarning: Columns (2) have mixed types. Specify dtype option on import or set low_memory=False.\n",
      "  temp = pd.read_csv(file_csv_name)\n",
      "/var/folders/rq/85s8zsjd42lfc1rs77545z540000gn/T/ipykernel_3016/1023632978.py:6: DtypeWarning: Columns (2) have mixed types. Specify dtype option on import or set low_memory=False.\n",
      "  temp = pd.read_csv(file_csv_name)\n",
      "/var/folders/rq/85s8zsjd42lfc1rs77545z540000gn/T/ipykernel_3016/1023632978.py:6: DtypeWarning: Columns (2) have mixed types. Specify dtype option on import or set low_memory=False.\n",
      "  temp = pd.read_csv(file_csv_name)\n",
      "/var/folders/rq/85s8zsjd42lfc1rs77545z540000gn/T/ipykernel_3016/1023632978.py:6: DtypeWarning: Columns (2) have mixed types. Specify dtype option on import or set low_memory=False.\n",
      "  temp = pd.read_csv(file_csv_name)\n",
      "/var/folders/rq/85s8zsjd42lfc1rs77545z540000gn/T/ipykernel_3016/1023632978.py:6: DtypeWarning: Columns (2) have mixed types. Specify dtype option on import or set low_memory=False.\n",
      "  temp = pd.read_csv(file_csv_name)\n",
      "/var/folders/rq/85s8zsjd42lfc1rs77545z540000gn/T/ipykernel_3016/1023632978.py:6: DtypeWarning: Columns (2) have mixed types. Specify dtype option on import or set low_memory=False.\n",
      "  temp = pd.read_csv(file_csv_name)\n",
      "/var/folders/rq/85s8zsjd42lfc1rs77545z540000gn/T/ipykernel_3016/1023632978.py:6: DtypeWarning: Columns (2) have mixed types. Specify dtype option on import or set low_memory=False.\n",
      "  temp = pd.read_csv(file_csv_name)\n"
     ]
    }
   ],
   "source": [
    "# 여러 개의 파일 읽어서 리스트에 한 번에 담기\n",
    "\n",
    "file_list = []\n",
    "\n",
    "for file_csv_name in file_csv:\n",
    "    temp = pd.read_csv(file_csv_name)\n",
    "    file_list.append(temp)"
   ]
  },
  {
   "cell_type": "code",
   "execution_count": 66,
   "id": "cb2fe194-d1bc-4a43-91f5-0843c5947aec",
   "metadata": {},
   "outputs": [],
   "source": [
    "# # 위의 경고 메세지에서 low_memory=flase를 설정하라고 하면 아래와 같이 진행\n",
    "\n",
    "# file_list = []\n",
    "\n",
    "# for file_csv_name in file_csv:\n",
    "#     temp = pd.read_csv(file_csv_name, low_memory=flase)\n",
    "#     file_list.append(temp)"
   ]
  },
  {
   "cell_type": "code",
   "execution_count": 72,
   "id": "3be0dba8-038c-4c61-9af2-5b7c34e9f603",
   "metadata": {},
   "outputs": [
    {
     "data": {
      "text/plain": [
       "17"
      ]
     },
     "execution_count": 72,
     "metadata": {},
     "output_type": "execute_result"
    }
   ],
   "source": [
    "# 파일 개수 확인\n",
    "len(file_list)"
   ]
  },
  {
   "cell_type": "code",
   "execution_count": 68,
   "id": "13ca3077-4ae8-419b-b0db-e042efba673e",
   "metadata": {},
   "outputs": [
    {
     "data": {
      "text/plain": [
       "(2338043, 39)"
      ]
     },
     "execution_count": 68,
     "metadata": {},
     "output_type": "execute_result"
    }
   ],
   "source": [
    "# 리스트 안의 값들을 concat으로 합치기\n",
    "\n",
    "df = pd.concat(file_list)\n",
    "df.shape   # 데이터프레임의 사이즈, 즉 열과 행의 개수를 알 수 있음"
   ]
  },
  {
   "cell_type": "code",
   "execution_count": 74,
   "id": "e81f26c7-1bc0-480b-95f3-ea085d54b8fc",
   "metadata": {},
   "outputs": [
    {
     "data": {
      "text/html": [
       "<div>\n",
       "<style scoped>\n",
       "    .dataframe tbody tr th:only-of-type {\n",
       "        vertical-align: middle;\n",
       "    }\n",
       "\n",
       "    .dataframe tbody tr th {\n",
       "        vertical-align: top;\n",
       "    }\n",
       "\n",
       "    .dataframe thead th {\n",
       "        text-align: right;\n",
       "    }\n",
       "</style>\n",
       "<table border=\"1\" class=\"dataframe\">\n",
       "  <thead>\n",
       "    <tr style=\"text-align: right;\">\n",
       "      <th></th>\n",
       "      <th>상가업소번호</th>\n",
       "      <th>상호명</th>\n",
       "      <th>지점명</th>\n",
       "      <th>상권업종대분류코드</th>\n",
       "      <th>상권업종대분류명</th>\n",
       "      <th>상권업종중분류코드</th>\n",
       "      <th>상권업종중분류명</th>\n",
       "      <th>상권업종소분류코드</th>\n",
       "      <th>상권업종소분류명</th>\n",
       "      <th>표준산업분류코드</th>\n",
       "      <th>...</th>\n",
       "      <th>건물관리번호</th>\n",
       "      <th>건물명</th>\n",
       "      <th>도로명주소</th>\n",
       "      <th>구우편번호</th>\n",
       "      <th>신우편번호</th>\n",
       "      <th>동정보</th>\n",
       "      <th>층정보</th>\n",
       "      <th>호정보</th>\n",
       "      <th>경도</th>\n",
       "      <th>위도</th>\n",
       "    </tr>\n",
       "  </thead>\n",
       "  <tbody>\n",
       "    <tr>\n",
       "      <th>0</th>\n",
       "      <td>MA0101202210A0003881</td>\n",
       "      <td>엉클몽키테니스</td>\n",
       "      <td>NaN</td>\n",
       "      <td>R1</td>\n",
       "      <td>예술·스포츠</td>\n",
       "      <td>R103</td>\n",
       "      <td>스포츠 서비스</td>\n",
       "      <td>R10312</td>\n",
       "      <td>테니스장</td>\n",
       "      <td>R91199</td>\n",
       "      <td>...</td>\n",
       "      <td>2729011500114450004013792</td>\n",
       "      <td>NaN</td>\n",
       "      <td>대구광역시 달서구 상원로11길 36</td>\n",
       "      <td>704817</td>\n",
       "      <td>42790</td>\n",
       "      <td>NaN</td>\n",
       "      <td>2</td>\n",
       "      <td>NaN</td>\n",
       "      <td>128.535589</td>\n",
       "      <td>35.813599</td>\n",
       "    </tr>\n",
       "    <tr>\n",
       "      <th>1</th>\n",
       "      <td>MA0101202210A0090318</td>\n",
       "      <td>아보카</td>\n",
       "      <td>NaN</td>\n",
       "      <td>I2</td>\n",
       "      <td>음식</td>\n",
       "      <td>I203</td>\n",
       "      <td>일식</td>\n",
       "      <td>I20301</td>\n",
       "      <td>일식 회/초밥</td>\n",
       "      <td>I56122</td>\n",
       "      <td>...</td>\n",
       "      <td>2729011600110100000000001</td>\n",
       "      <td>NaN</td>\n",
       "      <td>대구광역시 달서구 수밭동길 34</td>\n",
       "      <td>704802</td>\n",
       "      <td>42835</td>\n",
       "      <td>NaN</td>\n",
       "      <td>1</td>\n",
       "      <td>NaN</td>\n",
       "      <td>128.549749</td>\n",
       "      <td>35.795445</td>\n",
       "    </tr>\n",
       "    <tr>\n",
       "      <th>2</th>\n",
       "      <td>MA0101202210A0055790</td>\n",
       "      <td>홍천뚝배기</td>\n",
       "      <td>NaN</td>\n",
       "      <td>I2</td>\n",
       "      <td>음식</td>\n",
       "      <td>I201</td>\n",
       "      <td>한식</td>\n",
       "      <td>I20102</td>\n",
       "      <td>국/탕/찌개류</td>\n",
       "      <td>I56111</td>\n",
       "      <td>...</td>\n",
       "      <td>2723011100113130000000002</td>\n",
       "      <td>NaN</td>\n",
       "      <td>대구광역시 북구 대동로6길 28</td>\n",
       "      <td>702842</td>\n",
       "      <td>41544</td>\n",
       "      <td>NaN</td>\n",
       "      <td>2</td>\n",
       "      <td>NaN</td>\n",
       "      <td>128.609366</td>\n",
       "      <td>35.894844</td>\n",
       "    </tr>\n",
       "    <tr>\n",
       "      <th>3</th>\n",
       "      <td>MA010120220805430823</td>\n",
       "      <td>오느른케이크</td>\n",
       "      <td>NaN</td>\n",
       "      <td>I2</td>\n",
       "      <td>음식</td>\n",
       "      <td>I210</td>\n",
       "      <td>기타 간이</td>\n",
       "      <td>I21001</td>\n",
       "      <td>빵/도넛</td>\n",
       "      <td>I56191</td>\n",
       "      <td>...</td>\n",
       "      <td>2729011700106820025000001</td>\n",
       "      <td>NaN</td>\n",
       "      <td>대구광역시 달서구 진천로9길 78-1</td>\n",
       "      <td>704837</td>\n",
       "      <td>42771</td>\n",
       "      <td>NaN</td>\n",
       "      <td>1</td>\n",
       "      <td>NaN</td>\n",
       "      <td>128.520585</td>\n",
       "      <td>35.812114</td>\n",
       "    </tr>\n",
       "    <tr>\n",
       "      <th>4</th>\n",
       "      <td>MA010120220805430881</td>\n",
       "      <td>대은공인중개사사무소</td>\n",
       "      <td>NaN</td>\n",
       "      <td>L1</td>\n",
       "      <td>부동산</td>\n",
       "      <td>L102</td>\n",
       "      <td>부동산 서비스</td>\n",
       "      <td>L10203</td>\n",
       "      <td>부동산 중개/대리업</td>\n",
       "      <td>L68221</td>\n",
       "      <td>...</td>\n",
       "      <td>2723010900111540000004846</td>\n",
       "      <td>NaN</td>\n",
       "      <td>대구광역시 북구 오봉로 83</td>\n",
       "      <td>702818</td>\n",
       "      <td>41555</td>\n",
       "      <td>NaN</td>\n",
       "      <td>NaN</td>\n",
       "      <td>NaN</td>\n",
       "      <td>128.577909</td>\n",
       "      <td>35.895144</td>\n",
       "    </tr>\n",
       "  </tbody>\n",
       "</table>\n",
       "<p>5 rows × 39 columns</p>\n",
       "</div>"
      ],
      "text/plain": [
       "                 상가업소번호         상호명  지점명 상권업종대분류코드 상권업종대분류명 상권업종중분류코드  \\\n",
       "0  MA0101202210A0003881     엉클몽키테니스  NaN        R1   예술·스포츠      R103   \n",
       "1  MA0101202210A0090318         아보카  NaN        I2       음식      I203   \n",
       "2  MA0101202210A0055790       홍천뚝배기  NaN        I2       음식      I201   \n",
       "3  MA010120220805430823      오느른케이크  NaN        I2       음식      I210   \n",
       "4  MA010120220805430881  대은공인중개사사무소  NaN        L1      부동산      L102   \n",
       "\n",
       "  상권업종중분류명 상권업종소분류코드    상권업종소분류명 표준산업분류코드  ...                     건물관리번호  \\\n",
       "0  스포츠 서비스    R10312        테니스장   R91199  ...  2729011500114450004013792   \n",
       "1       일식    I20301     일식 회/초밥   I56122  ...  2729011600110100000000001   \n",
       "2       한식    I20102     국/탕/찌개류   I56111  ...  2723011100113130000000002   \n",
       "3    기타 간이    I21001        빵/도넛   I56191  ...  2729011700106820025000001   \n",
       "4  부동산 서비스    L10203  부동산 중개/대리업   L68221  ...  2723010900111540000004846   \n",
       "\n",
       "   건물명                 도로명주소   구우편번호  신우편번호  동정보  층정보  호정보          경도  \\\n",
       "0  NaN   대구광역시 달서구 상원로11길 36  704817  42790  NaN    2  NaN  128.535589   \n",
       "1  NaN     대구광역시 달서구 수밭동길 34  704802  42835  NaN    1  NaN  128.549749   \n",
       "2  NaN     대구광역시 북구 대동로6길 28  702842  41544  NaN    2  NaN  128.609366   \n",
       "3  NaN  대구광역시 달서구 진천로9길 78-1  704837  42771  NaN    1  NaN  128.520585   \n",
       "4  NaN       대구광역시 북구 오봉로 83  702818  41555  NaN  NaN  NaN  128.577909   \n",
       "\n",
       "          위도  \n",
       "0  35.813599  \n",
       "1  35.795445  \n",
       "2  35.894844  \n",
       "3  35.812114  \n",
       "4  35.895144  \n",
       "\n",
       "[5 rows x 39 columns]"
      ]
     },
     "execution_count": 74,
     "metadata": {},
     "output_type": "execute_result"
    }
   ],
   "source": [
    "# 합친 데이터 값(데이터프레임) 확인하기\n",
    "# df.head() : 앞에서 5개 열만 확인\n",
    "\n",
    "df.head()"
   ]
  },
  {
   "cell_type": "code",
   "execution_count": 76,
   "id": "39843903-772f-4cc7-9262-97783d258641",
   "metadata": {},
   "outputs": [
    {
     "data": {
      "text/html": [
       "<div>\n",
       "<style scoped>\n",
       "    .dataframe tbody tr th:only-of-type {\n",
       "        vertical-align: middle;\n",
       "    }\n",
       "\n",
       "    .dataframe tbody tr th {\n",
       "        vertical-align: top;\n",
       "    }\n",
       "\n",
       "    .dataframe thead th {\n",
       "        text-align: right;\n",
       "    }\n",
       "</style>\n",
       "<table border=\"1\" class=\"dataframe\">\n",
       "  <thead>\n",
       "    <tr style=\"text-align: right;\">\n",
       "      <th></th>\n",
       "      <th>상가업소번호</th>\n",
       "      <th>상호명</th>\n",
       "      <th>지점명</th>\n",
       "      <th>상권업종대분류코드</th>\n",
       "      <th>상권업종대분류명</th>\n",
       "      <th>상권업종중분류코드</th>\n",
       "      <th>상권업종중분류명</th>\n",
       "      <th>상권업종소분류코드</th>\n",
       "      <th>상권업종소분류명</th>\n",
       "      <th>표준산업분류코드</th>\n",
       "      <th>...</th>\n",
       "      <th>건물관리번호</th>\n",
       "      <th>건물명</th>\n",
       "      <th>도로명주소</th>\n",
       "      <th>구우편번호</th>\n",
       "      <th>신우편번호</th>\n",
       "      <th>동정보</th>\n",
       "      <th>층정보</th>\n",
       "      <th>호정보</th>\n",
       "      <th>경도</th>\n",
       "      <th>위도</th>\n",
       "    </tr>\n",
       "  </thead>\n",
       "  <tbody>\n",
       "    <tr>\n",
       "      <th>67762</th>\n",
       "      <td>MA0101202310A0073696</td>\n",
       "      <td>루멘5호</td>\n",
       "      <td>NaN</td>\n",
       "      <td>N1</td>\n",
       "      <td>시설관리·임대</td>\n",
       "      <td>N101</td>\n",
       "      <td>시설관리</td>\n",
       "      <td>N10101</td>\n",
       "      <td>사업시설 유지·관리 서비스업</td>\n",
       "      <td>N74100</td>\n",
       "      <td>...</td>\n",
       "      <td>2920012500107340000000002</td>\n",
       "      <td>NaN</td>\n",
       "      <td>광주광역시 광산구 용아로379번길 40</td>\n",
       "      <td>506250</td>\n",
       "      <td>62336</td>\n",
       "      <td>NaN</td>\n",
       "      <td>4</td>\n",
       "      <td>NaN</td>\n",
       "      <td>126.802191</td>\n",
       "      <td>35.177001</td>\n",
       "    </tr>\n",
       "    <tr>\n",
       "      <th>67763</th>\n",
       "      <td>MA0101202310A0044207</td>\n",
       "      <td>주문진</td>\n",
       "      <td>NaN</td>\n",
       "      <td>I2</td>\n",
       "      <td>음식</td>\n",
       "      <td>I201</td>\n",
       "      <td>한식</td>\n",
       "      <td>I20101</td>\n",
       "      <td>백반/한정식</td>\n",
       "      <td>I56111</td>\n",
       "      <td>...</td>\n",
       "      <td>2917012800108170000000001</td>\n",
       "      <td>NaN</td>\n",
       "      <td>광주광역시 북구 양산택지로37번길 33</td>\n",
       "      <td>500895</td>\n",
       "      <td>61071</td>\n",
       "      <td>NaN</td>\n",
       "      <td>1</td>\n",
       "      <td>NaN</td>\n",
       "      <td>126.876023</td>\n",
       "      <td>35.210267</td>\n",
       "    </tr>\n",
       "    <tr>\n",
       "      <th>67764</th>\n",
       "      <td>MA0101202310A0073142</td>\n",
       "      <td>딜리시어스프라이</td>\n",
       "      <td>전대점</td>\n",
       "      <td>I2</td>\n",
       "      <td>음식</td>\n",
       "      <td>I210</td>\n",
       "      <td>기타 간이</td>\n",
       "      <td>I21006</td>\n",
       "      <td>치킨</td>\n",
       "      <td>I56193</td>\n",
       "      <td>...</td>\n",
       "      <td>2917010100103410006010625</td>\n",
       "      <td>평화프라자</td>\n",
       "      <td>광주광역시 북구 우치로27번길 33</td>\n",
       "      <td>500874</td>\n",
       "      <td>61217</td>\n",
       "      <td>NaN</td>\n",
       "      <td>NaN</td>\n",
       "      <td>NaN</td>\n",
       "      <td>126.909220</td>\n",
       "      <td>35.170306</td>\n",
       "    </tr>\n",
       "    <tr>\n",
       "      <th>67765</th>\n",
       "      <td>MA0101202310A0040091</td>\n",
       "      <td>대명식당</td>\n",
       "      <td>NaN</td>\n",
       "      <td>I2</td>\n",
       "      <td>음식</td>\n",
       "      <td>I201</td>\n",
       "      <td>한식</td>\n",
       "      <td>I20101</td>\n",
       "      <td>백반/한정식</td>\n",
       "      <td>I56111</td>\n",
       "      <td>...</td>\n",
       "      <td>2917010100106680036011482</td>\n",
       "      <td>NaN</td>\n",
       "      <td>광주광역시 북구 중가로 117</td>\n",
       "      <td>500878</td>\n",
       "      <td>61236</td>\n",
       "      <td>NaN</td>\n",
       "      <td>1</td>\n",
       "      <td>NaN</td>\n",
       "      <td>126.912801</td>\n",
       "      <td>35.157728</td>\n",
       "    </tr>\n",
       "    <tr>\n",
       "      <th>67766</th>\n",
       "      <td>MA0101202310A0052438</td>\n",
       "      <td>강남호프</td>\n",
       "      <td>NaN</td>\n",
       "      <td>I2</td>\n",
       "      <td>음식</td>\n",
       "      <td>I211</td>\n",
       "      <td>주점</td>\n",
       "      <td>I21103</td>\n",
       "      <td>생맥주 전문</td>\n",
       "      <td>I56213</td>\n",
       "      <td>...</td>\n",
       "      <td>2917011500109180033047456</td>\n",
       "      <td>NaN</td>\n",
       "      <td>광주광역시 북구 안산로 34</td>\n",
       "      <td>500839</td>\n",
       "      <td>61053</td>\n",
       "      <td>NaN</td>\n",
       "      <td>1</td>\n",
       "      <td>NaN</td>\n",
       "      <td>126.902212</td>\n",
       "      <td>35.190235</td>\n",
       "    </tr>\n",
       "  </tbody>\n",
       "</table>\n",
       "<p>5 rows × 39 columns</p>\n",
       "</div>"
      ],
      "text/plain": [
       "                     상가업소번호       상호명  지점명 상권업종대분류코드 상권업종대분류명 상권업종중분류코드  \\\n",
       "67762  MA0101202310A0073696      루멘5호  NaN        N1  시설관리·임대      N101   \n",
       "67763  MA0101202310A0044207       주문진  NaN        I2       음식      I201   \n",
       "67764  MA0101202310A0073142  딜리시어스프라이  전대점        I2       음식      I210   \n",
       "67765  MA0101202310A0040091      대명식당  NaN        I2       음식      I201   \n",
       "67766  MA0101202310A0052438      강남호프  NaN        I2       음식      I211   \n",
       "\n",
       "      상권업종중분류명 상권업종소분류코드         상권업종소분류명 표준산업분류코드  ...  \\\n",
       "67762     시설관리    N10101  사업시설 유지·관리 서비스업   N74100  ...   \n",
       "67763       한식    I20101           백반/한정식   I56111  ...   \n",
       "67764    기타 간이    I21006               치킨   I56193  ...   \n",
       "67765       한식    I20101           백반/한정식   I56111  ...   \n",
       "67766       주점    I21103           생맥주 전문   I56213  ...   \n",
       "\n",
       "                          건물관리번호    건물명                  도로명주소   구우편번호  신우편번호  \\\n",
       "67762  2920012500107340000000002    NaN  광주광역시 광산구 용아로379번길 40  506250  62336   \n",
       "67763  2917012800108170000000001    NaN  광주광역시 북구 양산택지로37번길 33  500895  61071   \n",
       "67764  2917010100103410006010625  평화프라자    광주광역시 북구 우치로27번길 33  500874  61217   \n",
       "67765  2917010100106680036011482    NaN       광주광역시 북구 중가로 117  500878  61236   \n",
       "67766  2917011500109180033047456    NaN        광주광역시 북구 안산로 34  500839  61053   \n",
       "\n",
       "       동정보  층정보  호정보          경도         위도  \n",
       "67762  NaN    4  NaN  126.802191  35.177001  \n",
       "67763  NaN    1  NaN  126.876023  35.210267  \n",
       "67764  NaN  NaN  NaN  126.909220  35.170306  \n",
       "67765  NaN    1  NaN  126.912801  35.157728  \n",
       "67766  NaN    1  NaN  126.902212  35.190235  \n",
       "\n",
       "[5 rows x 39 columns]"
      ]
     },
     "execution_count": 76,
     "metadata": {},
     "output_type": "execute_result"
    }
   ],
   "source": [
    "# df.tail() : 마지막 5개 열 데이터 확인\n",
    "df.tail()"
   ]
  },
  {
   "cell_type": "code",
   "execution_count": 78,
   "id": "d22c0042-7200-4911-ba99-bed77f67e8fa",
   "metadata": {},
   "outputs": [
    {
     "name": "stdout",
     "output_type": "stream",
     "text": [
      "<class 'pandas.core.frame.DataFrame'>\n",
      "Index: 2338043 entries, 0 to 67766\n",
      "Data columns (total 39 columns):\n",
      " #   Column     Dtype  \n",
      "---  ------     -----  \n",
      " 0   상가업소번호     object \n",
      " 1   상호명        object \n",
      " 2   지점명        object \n",
      " 3   상권업종대분류코드  object \n",
      " 4   상권업종대분류명   object \n",
      " 5   상권업종중분류코드  object \n",
      " 6   상권업종중분류명   object \n",
      " 7   상권업종소분류코드  object \n",
      " 8   상권업종소분류명   object \n",
      " 9   표준산업분류코드   object \n",
      " 10  표준산업분류명    object \n",
      " 11  시도코드       int64  \n",
      " 12  시도명        object \n",
      " 13  시군구코드      int64  \n",
      " 14  시군구명       object \n",
      " 15  행정동코드      int64  \n",
      " 16  행정동명       object \n",
      " 17  법정동코드      int64  \n",
      " 18  법정동명       object \n",
      " 19  지번코드       int64  \n",
      " 20  대지구분코드     int64  \n",
      " 21  대지구분명      object \n",
      " 22  지번본번지      float64\n",
      " 23  지번부번지      float64\n",
      " 24  지번주소       object \n",
      " 25  도로명코드      float64\n",
      " 26  도로명        object \n",
      " 27  건물본번지      float64\n",
      " 28  건물부번지      float64\n",
      " 29  건물관리번호     object \n",
      " 30  건물명        object \n",
      " 31  도로명주소      object \n",
      " 32  구우편번호      int64  \n",
      " 33  신우편번호      int64  \n",
      " 34  동정보        float64\n",
      " 35  층정보        object \n",
      " 36  호정보        float64\n",
      " 37  경도         float64\n",
      " 38  위도         float64\n",
      "dtypes: float64(9), int64(8), object(22)\n",
      "memory usage: 713.5+ MB\n"
     ]
    }
   ],
   "source": [
    "# 데이터 정보 확인\n",
    "df.info()"
   ]
  },
  {
   "cell_type": "markdown",
   "id": "38ea7781-3992-4080-8077-eab1d0cbebfd",
   "metadata": {},
   "source": [
    "---"
   ]
  },
  {
   "cell_type": "markdown",
   "id": "46a53538-9f1d-45c8-b66e-08bdc68a283a",
   "metadata": {},
   "source": [
    "- nbextensions 익스텐션 설치하기"
   ]
  },
  {
   "cell_type": "code",
   "execution_count": 2,
   "id": "a04f6ff2-f48a-4882-b57a-1b48f46f8317",
   "metadata": {},
   "outputs": [
    {
     "name": "stdout",
     "output_type": "stream",
     "text": [
      "Requirement already satisfied: jupyter_nbextensions_configurator in /opt/homebrew/anaconda3/lib/python3.11/site-packages (0.6.4)\n",
      "Requirement already satisfied: jupyter-contrib-core>=0.3.3 in /opt/homebrew/anaconda3/lib/python3.11/site-packages (from jupyter_nbextensions_configurator) (0.4.2)\n",
      "Requirement already satisfied: jupyter-core in /opt/homebrew/anaconda3/lib/python3.11/site-packages (from jupyter_nbextensions_configurator) (5.5.0)\n",
      "Requirement already satisfied: jupyter-server in /opt/homebrew/anaconda3/lib/python3.11/site-packages (from jupyter_nbextensions_configurator) (2.10.0)\n",
      "Requirement already satisfied: notebook>=6.0 in /opt/homebrew/anaconda3/lib/python3.11/site-packages (from jupyter_nbextensions_configurator) (7.0.6)\n",
      "Requirement already satisfied: pyyaml in /opt/homebrew/anaconda3/lib/python3.11/site-packages (from jupyter_nbextensions_configurator) (6.0.1)\n",
      "Requirement already satisfied: tornado in /opt/homebrew/anaconda3/lib/python3.11/site-packages (from jupyter_nbextensions_configurator) (6.3.3)\n",
      "Requirement already satisfied: traitlets in /opt/homebrew/anaconda3/lib/python3.11/site-packages (from jupyter_nbextensions_configurator) (5.7.1)\n",
      "Requirement already satisfied: setuptools in /opt/homebrew/anaconda3/lib/python3.11/site-packages (from jupyter-contrib-core>=0.3.3->jupyter_nbextensions_configurator) (68.0.0)\n",
      "Requirement already satisfied: jupyterlab-server<3,>=2.22.1 in /opt/homebrew/anaconda3/lib/python3.11/site-packages (from notebook>=6.0->jupyter_nbextensions_configurator) (2.25.1)\n",
      "Requirement already satisfied: jupyterlab<5,>=4.0.2 in /opt/homebrew/anaconda3/lib/python3.11/site-packages (from notebook>=6.0->jupyter_nbextensions_configurator) (4.0.8)\n",
      "Requirement already satisfied: notebook-shim<0.3,>=0.2 in /opt/homebrew/anaconda3/lib/python3.11/site-packages (from notebook>=6.0->jupyter_nbextensions_configurator) (0.2.3)\n",
      "Requirement already satisfied: anyio>=3.1.0 in /opt/homebrew/anaconda3/lib/python3.11/site-packages (from jupyter-server->jupyter_nbextensions_configurator) (3.5.0)\n",
      "Requirement already satisfied: argon2-cffi in /opt/homebrew/anaconda3/lib/python3.11/site-packages (from jupyter-server->jupyter_nbextensions_configurator) (21.3.0)\n",
      "Requirement already satisfied: jinja2 in /opt/homebrew/anaconda3/lib/python3.11/site-packages (from jupyter-server->jupyter_nbextensions_configurator) (3.1.2)\n",
      "Requirement already satisfied: jupyter-client>=7.4.4 in /opt/homebrew/anaconda3/lib/python3.11/site-packages (from jupyter-server->jupyter_nbextensions_configurator) (8.6.0)\n",
      "Requirement already satisfied: jupyter-events>=0.6.0 in /opt/homebrew/anaconda3/lib/python3.11/site-packages (from jupyter-server->jupyter_nbextensions_configurator) (0.8.0)\n",
      "Requirement already satisfied: jupyter-server-terminals in /opt/homebrew/anaconda3/lib/python3.11/site-packages (from jupyter-server->jupyter_nbextensions_configurator) (0.4.4)\n",
      "Requirement already satisfied: nbconvert>=6.4.4 in /opt/homebrew/anaconda3/lib/python3.11/site-packages (from jupyter-server->jupyter_nbextensions_configurator) (7.10.0)\n",
      "Requirement already satisfied: nbformat>=5.3.0 in /opt/homebrew/anaconda3/lib/python3.11/site-packages (from jupyter-server->jupyter_nbextensions_configurator) (5.9.2)\n",
      "Requirement already satisfied: overrides in /opt/homebrew/anaconda3/lib/python3.11/site-packages (from jupyter-server->jupyter_nbextensions_configurator) (7.4.0)\n",
      "Requirement already satisfied: packaging in /opt/homebrew/anaconda3/lib/python3.11/site-packages (from jupyter-server->jupyter_nbextensions_configurator) (23.1)\n",
      "Requirement already satisfied: prometheus-client in /opt/homebrew/anaconda3/lib/python3.11/site-packages (from jupyter-server->jupyter_nbextensions_configurator) (0.14.1)\n",
      "Requirement already satisfied: pyzmq>=24 in /opt/homebrew/anaconda3/lib/python3.11/site-packages (from jupyter-server->jupyter_nbextensions_configurator) (25.1.0)\n",
      "Requirement already satisfied: send2trash>=1.8.2 in /opt/homebrew/anaconda3/lib/python3.11/site-packages (from jupyter-server->jupyter_nbextensions_configurator) (1.8.2)\n",
      "Requirement already satisfied: terminado>=0.8.3 in /opt/homebrew/anaconda3/lib/python3.11/site-packages (from jupyter-server->jupyter_nbextensions_configurator) (0.17.1)\n",
      "Requirement already satisfied: websocket-client in /opt/homebrew/anaconda3/lib/python3.11/site-packages (from jupyter-server->jupyter_nbextensions_configurator) (0.58.0)\n",
      "Requirement already satisfied: platformdirs>=2.5 in /opt/homebrew/anaconda3/lib/python3.11/site-packages (from jupyter-core->jupyter_nbextensions_configurator) (3.10.0)\n",
      "Requirement already satisfied: idna>=2.8 in /opt/homebrew/anaconda3/lib/python3.11/site-packages (from anyio>=3.1.0->jupyter-server->jupyter_nbextensions_configurator) (3.4)\n",
      "Requirement already satisfied: sniffio>=1.1 in /opt/homebrew/anaconda3/lib/python3.11/site-packages (from anyio>=3.1.0->jupyter-server->jupyter_nbextensions_configurator) (1.2.0)\n",
      "Requirement already satisfied: python-dateutil>=2.8.2 in /opt/homebrew/anaconda3/lib/python3.11/site-packages (from jupyter-client>=7.4.4->jupyter-server->jupyter_nbextensions_configurator) (2.8.2)\n",
      "Requirement already satisfied: jsonschema[format-nongpl]>=4.18.0 in /opt/homebrew/anaconda3/lib/python3.11/site-packages (from jupyter-events>=0.6.0->jupyter-server->jupyter_nbextensions_configurator) (4.19.2)\n",
      "Requirement already satisfied: python-json-logger>=2.0.4 in /opt/homebrew/anaconda3/lib/python3.11/site-packages (from jupyter-events>=0.6.0->jupyter-server->jupyter_nbextensions_configurator) (2.0.7)\n",
      "Requirement already satisfied: referencing in /opt/homebrew/anaconda3/lib/python3.11/site-packages (from jupyter-events>=0.6.0->jupyter-server->jupyter_nbextensions_configurator) (0.30.2)\n",
      "Requirement already satisfied: rfc3339-validator in /opt/homebrew/anaconda3/lib/python3.11/site-packages (from jupyter-events>=0.6.0->jupyter-server->jupyter_nbextensions_configurator) (0.1.4)\n",
      "Requirement already satisfied: rfc3986-validator>=0.1.1 in /opt/homebrew/anaconda3/lib/python3.11/site-packages (from jupyter-events>=0.6.0->jupyter-server->jupyter_nbextensions_configurator) (0.1.1)\n",
      "Requirement already satisfied: async-lru>=1.0.0 in /opt/homebrew/anaconda3/lib/python3.11/site-packages (from jupyterlab<5,>=4.0.2->notebook>=6.0->jupyter_nbextensions_configurator) (2.0.4)\n",
      "Requirement already satisfied: ipykernel in /opt/homebrew/anaconda3/lib/python3.11/site-packages (from jupyterlab<5,>=4.0.2->notebook>=6.0->jupyter_nbextensions_configurator) (6.25.0)\n",
      "Requirement already satisfied: jupyter-lsp>=2.0.0 in /opt/homebrew/anaconda3/lib/python3.11/site-packages (from jupyterlab<5,>=4.0.2->notebook>=6.0->jupyter_nbextensions_configurator) (2.2.0)\n",
      "Requirement already satisfied: MarkupSafe>=2.0 in /opt/homebrew/anaconda3/lib/python3.11/site-packages (from jinja2->jupyter-server->jupyter_nbextensions_configurator) (2.1.1)\n",
      "Requirement already satisfied: babel>=2.10 in /opt/homebrew/anaconda3/lib/python3.11/site-packages (from jupyterlab-server<3,>=2.22.1->notebook>=6.0->jupyter_nbextensions_configurator) (2.11.0)\n",
      "Requirement already satisfied: json5>=0.9.0 in /opt/homebrew/anaconda3/lib/python3.11/site-packages (from jupyterlab-server<3,>=2.22.1->notebook>=6.0->jupyter_nbextensions_configurator) (0.9.6)\n",
      "Requirement already satisfied: requests>=2.31 in /opt/homebrew/anaconda3/lib/python3.11/site-packages (from jupyterlab-server<3,>=2.22.1->notebook>=6.0->jupyter_nbextensions_configurator) (2.31.0)\n",
      "Requirement already satisfied: beautifulsoup4 in /opt/homebrew/anaconda3/lib/python3.11/site-packages (from nbconvert>=6.4.4->jupyter-server->jupyter_nbextensions_configurator) (4.12.2)\n",
      "Requirement already satisfied: bleach!=5.0.0 in /opt/homebrew/anaconda3/lib/python3.11/site-packages (from nbconvert>=6.4.4->jupyter-server->jupyter_nbextensions_configurator) (4.1.0)\n",
      "Requirement already satisfied: defusedxml in /opt/homebrew/anaconda3/lib/python3.11/site-packages (from nbconvert>=6.4.4->jupyter-server->jupyter_nbextensions_configurator) (0.7.1)\n",
      "Requirement already satisfied: jupyterlab-pygments in /opt/homebrew/anaconda3/lib/python3.11/site-packages (from nbconvert>=6.4.4->jupyter-server->jupyter_nbextensions_configurator) (0.1.2)\n",
      "Requirement already satisfied: mistune<4,>=2.0.3 in /opt/homebrew/anaconda3/lib/python3.11/site-packages (from nbconvert>=6.4.4->jupyter-server->jupyter_nbextensions_configurator) (2.0.4)\n",
      "Requirement already satisfied: nbclient>=0.5.0 in /opt/homebrew/anaconda3/lib/python3.11/site-packages (from nbconvert>=6.4.4->jupyter-server->jupyter_nbextensions_configurator) (0.8.0)\n",
      "Requirement already satisfied: pandocfilters>=1.4.1 in /opt/homebrew/anaconda3/lib/python3.11/site-packages (from nbconvert>=6.4.4->jupyter-server->jupyter_nbextensions_configurator) (1.5.0)\n",
      "Requirement already satisfied: pygments>=2.4.1 in /opt/homebrew/anaconda3/lib/python3.11/site-packages (from nbconvert>=6.4.4->jupyter-server->jupyter_nbextensions_configurator) (2.15.1)\n",
      "Requirement already satisfied: tinycss2 in /opt/homebrew/anaconda3/lib/python3.11/site-packages (from nbconvert>=6.4.4->jupyter-server->jupyter_nbextensions_configurator) (1.2.1)\n",
      "Requirement already satisfied: fastjsonschema in /opt/homebrew/anaconda3/lib/python3.11/site-packages (from nbformat>=5.3.0->jupyter-server->jupyter_nbextensions_configurator) (2.16.2)\n",
      "Requirement already satisfied: ptyprocess in /opt/homebrew/anaconda3/lib/python3.11/site-packages (from terminado>=0.8.3->jupyter-server->jupyter_nbextensions_configurator) (0.7.0)\n",
      "Requirement already satisfied: argon2-cffi-bindings in /opt/homebrew/anaconda3/lib/python3.11/site-packages (from argon2-cffi->jupyter-server->jupyter_nbextensions_configurator) (21.2.0)\n",
      "Requirement already satisfied: six in /opt/homebrew/anaconda3/lib/python3.11/site-packages (from websocket-client->jupyter-server->jupyter_nbextensions_configurator) (1.16.0)\n",
      "Requirement already satisfied: pytz>=2015.7 in /opt/homebrew/anaconda3/lib/python3.11/site-packages (from babel>=2.10->jupyterlab-server<3,>=2.22.1->notebook>=6.0->jupyter_nbextensions_configurator) (2023.3.post1)\n",
      "Requirement already satisfied: webencodings in /opt/homebrew/anaconda3/lib/python3.11/site-packages (from bleach!=5.0.0->nbconvert>=6.4.4->jupyter-server->jupyter_nbextensions_configurator) (0.5.1)\n",
      "Requirement already satisfied: attrs>=22.2.0 in /opt/homebrew/anaconda3/lib/python3.11/site-packages (from jsonschema[format-nongpl]>=4.18.0->jupyter-events>=0.6.0->jupyter-server->jupyter_nbextensions_configurator) (23.1.0)\n",
      "Requirement already satisfied: jsonschema-specifications>=2023.03.6 in /opt/homebrew/anaconda3/lib/python3.11/site-packages (from jsonschema[format-nongpl]>=4.18.0->jupyter-events>=0.6.0->jupyter-server->jupyter_nbextensions_configurator) (2023.7.1)\n",
      "Requirement already satisfied: rpds-py>=0.7.1 in /opt/homebrew/anaconda3/lib/python3.11/site-packages (from jsonschema[format-nongpl]>=4.18.0->jupyter-events>=0.6.0->jupyter-server->jupyter_nbextensions_configurator) (0.10.6)\n",
      "Requirement already satisfied: fqdn in /opt/homebrew/anaconda3/lib/python3.11/site-packages (from jsonschema[format-nongpl]>=4.18.0->jupyter-events>=0.6.0->jupyter-server->jupyter_nbextensions_configurator) (1.5.1)\n",
      "Requirement already satisfied: isoduration in /opt/homebrew/anaconda3/lib/python3.11/site-packages (from jsonschema[format-nongpl]>=4.18.0->jupyter-events>=0.6.0->jupyter-server->jupyter_nbextensions_configurator) (20.11.0)\n",
      "Requirement already satisfied: jsonpointer>1.13 in /opt/homebrew/anaconda3/lib/python3.11/site-packages (from jsonschema[format-nongpl]>=4.18.0->jupyter-events>=0.6.0->jupyter-server->jupyter_nbextensions_configurator) (2.1)\n",
      "Requirement already satisfied: uri-template in /opt/homebrew/anaconda3/lib/python3.11/site-packages (from jsonschema[format-nongpl]>=4.18.0->jupyter-events>=0.6.0->jupyter-server->jupyter_nbextensions_configurator) (1.3.0)\n",
      "Requirement already satisfied: webcolors>=1.11 in /opt/homebrew/anaconda3/lib/python3.11/site-packages (from jsonschema[format-nongpl]>=4.18.0->jupyter-events>=0.6.0->jupyter-server->jupyter_nbextensions_configurator) (1.13)\n",
      "Requirement already satisfied: charset-normalizer<4,>=2 in /opt/homebrew/anaconda3/lib/python3.11/site-packages (from requests>=2.31->jupyterlab-server<3,>=2.22.1->notebook>=6.0->jupyter_nbextensions_configurator) (2.0.4)\n",
      "Requirement already satisfied: urllib3<3,>=1.21.1 in /opt/homebrew/anaconda3/lib/python3.11/site-packages (from requests>=2.31->jupyterlab-server<3,>=2.22.1->notebook>=6.0->jupyter_nbextensions_configurator) (1.26.18)\n",
      "Requirement already satisfied: certifi>=2017.4.17 in /opt/homebrew/anaconda3/lib/python3.11/site-packages (from requests>=2.31->jupyterlab-server<3,>=2.22.1->notebook>=6.0->jupyter_nbextensions_configurator) (2024.2.2)\n",
      "Requirement already satisfied: cffi>=1.0.1 in /opt/homebrew/anaconda3/lib/python3.11/site-packages (from argon2-cffi-bindings->argon2-cffi->jupyter-server->jupyter_nbextensions_configurator) (1.16.0)\n",
      "Requirement already satisfied: soupsieve>1.2 in /opt/homebrew/anaconda3/lib/python3.11/site-packages (from beautifulsoup4->nbconvert>=6.4.4->jupyter-server->jupyter_nbextensions_configurator) (2.5)\n",
      "Requirement already satisfied: appnope in /opt/homebrew/anaconda3/lib/python3.11/site-packages (from ipykernel->jupyterlab<5,>=4.0.2->notebook>=6.0->jupyter_nbextensions_configurator) (0.1.2)\n",
      "Requirement already satisfied: comm>=0.1.1 in /opt/homebrew/anaconda3/lib/python3.11/site-packages (from ipykernel->jupyterlab<5,>=4.0.2->notebook>=6.0->jupyter_nbextensions_configurator) (0.1.2)\n",
      "Requirement already satisfied: debugpy>=1.6.5 in /opt/homebrew/anaconda3/lib/python3.11/site-packages (from ipykernel->jupyterlab<5,>=4.0.2->notebook>=6.0->jupyter_nbextensions_configurator) (1.6.7)\n",
      "Requirement already satisfied: ipython>=7.23.1 in /opt/homebrew/anaconda3/lib/python3.11/site-packages (from ipykernel->jupyterlab<5,>=4.0.2->notebook>=6.0->jupyter_nbextensions_configurator) (8.15.0)\n",
      "Requirement already satisfied: matplotlib-inline>=0.1 in /opt/homebrew/anaconda3/lib/python3.11/site-packages (from ipykernel->jupyterlab<5,>=4.0.2->notebook>=6.0->jupyter_nbextensions_configurator) (0.1.6)\n",
      "Requirement already satisfied: nest-asyncio in /opt/homebrew/anaconda3/lib/python3.11/site-packages (from ipykernel->jupyterlab<5,>=4.0.2->notebook>=6.0->jupyter_nbextensions_configurator) (1.5.6)\n",
      "Requirement already satisfied: psutil in /opt/homebrew/anaconda3/lib/python3.11/site-packages (from ipykernel->jupyterlab<5,>=4.0.2->notebook>=6.0->jupyter_nbextensions_configurator) (5.9.0)\n",
      "Requirement already satisfied: pycparser in /opt/homebrew/anaconda3/lib/python3.11/site-packages (from cffi>=1.0.1->argon2-cffi-bindings->argon2-cffi->jupyter-server->jupyter_nbextensions_configurator) (2.21)\n",
      "Requirement already satisfied: backcall in /opt/homebrew/anaconda3/lib/python3.11/site-packages (from ipython>=7.23.1->ipykernel->jupyterlab<5,>=4.0.2->notebook>=6.0->jupyter_nbextensions_configurator) (0.2.0)\n",
      "Requirement already satisfied: decorator in /opt/homebrew/anaconda3/lib/python3.11/site-packages (from ipython>=7.23.1->ipykernel->jupyterlab<5,>=4.0.2->notebook>=6.0->jupyter_nbextensions_configurator) (5.1.1)\n",
      "Requirement already satisfied: jedi>=0.16 in /opt/homebrew/anaconda3/lib/python3.11/site-packages (from ipython>=7.23.1->ipykernel->jupyterlab<5,>=4.0.2->notebook>=6.0->jupyter_nbextensions_configurator) (0.18.1)\n",
      "Requirement already satisfied: pickleshare in /opt/homebrew/anaconda3/lib/python3.11/site-packages (from ipython>=7.23.1->ipykernel->jupyterlab<5,>=4.0.2->notebook>=6.0->jupyter_nbextensions_configurator) (0.7.5)\n",
      "Requirement already satisfied: prompt-toolkit!=3.0.37,<3.1.0,>=3.0.30 in /opt/homebrew/anaconda3/lib/python3.11/site-packages (from ipython>=7.23.1->ipykernel->jupyterlab<5,>=4.0.2->notebook>=6.0->jupyter_nbextensions_configurator) (3.0.36)\n",
      "Requirement already satisfied: stack-data in /opt/homebrew/anaconda3/lib/python3.11/site-packages (from ipython>=7.23.1->ipykernel->jupyterlab<5,>=4.0.2->notebook>=6.0->jupyter_nbextensions_configurator) (0.2.0)\n",
      "Requirement already satisfied: pexpect>4.3 in /opt/homebrew/anaconda3/lib/python3.11/site-packages (from ipython>=7.23.1->ipykernel->jupyterlab<5,>=4.0.2->notebook>=6.0->jupyter_nbextensions_configurator) (4.8.0)\n",
      "Requirement already satisfied: arrow>=0.15.0 in /opt/homebrew/anaconda3/lib/python3.11/site-packages (from isoduration->jsonschema[format-nongpl]>=4.18.0->jupyter-events>=0.6.0->jupyter-server->jupyter_nbextensions_configurator) (1.2.3)\n",
      "Requirement already satisfied: parso<0.9.0,>=0.8.0 in /opt/homebrew/anaconda3/lib/python3.11/site-packages (from jedi>=0.16->ipython>=7.23.1->ipykernel->jupyterlab<5,>=4.0.2->notebook>=6.0->jupyter_nbextensions_configurator) (0.8.3)\n",
      "Requirement already satisfied: wcwidth in /opt/homebrew/anaconda3/lib/python3.11/site-packages (from prompt-toolkit!=3.0.37,<3.1.0,>=3.0.30->ipython>=7.23.1->ipykernel->jupyterlab<5,>=4.0.2->notebook>=6.0->jupyter_nbextensions_configurator) (0.2.5)\n",
      "Requirement already satisfied: executing in /opt/homebrew/anaconda3/lib/python3.11/site-packages (from stack-data->ipython>=7.23.1->ipykernel->jupyterlab<5,>=4.0.2->notebook>=6.0->jupyter_nbextensions_configurator) (0.8.3)\n",
      "Requirement already satisfied: asttokens in /opt/homebrew/anaconda3/lib/python3.11/site-packages (from stack-data->ipython>=7.23.1->ipykernel->jupyterlab<5,>=4.0.2->notebook>=6.0->jupyter_nbextensions_configurator) (2.0.5)\n",
      "Requirement already satisfied: pure-eval in /opt/homebrew/anaconda3/lib/python3.11/site-packages (from stack-data->ipython>=7.23.1->ipykernel->jupyterlab<5,>=4.0.2->notebook>=6.0->jupyter_nbextensions_configurator) (0.2.2)\n"
     ]
    }
   ],
   "source": [
    "# jupyter_nbextensions_configurator 패키지 설치\n",
    "!pip install jupyter_nbextensions_configurator"
   ]
  },
  {
   "cell_type": "code",
   "execution_count": 7,
   "id": "5f5e0e54-850e-49c0-a473-9ce70a424835",
   "metadata": {},
   "outputs": [
    {
     "name": "stdout",
     "output_type": "stream",
     "text": [
      "Traceback (most recent call last):\n",
      "  File \"/opt/homebrew/anaconda3/lib/python3.11/site-packages/jupyter_contrib_core/notebook_compat/nbextensions.py\", line 6, in <module>\n",
      "    from notebook.extensions import BaseExtensionApp\n",
      "ModuleNotFoundError: No module named 'notebook.extensions'\n",
      "\n",
      "During handling of the above exception, another exception occurred:\n",
      "\n",
      "Traceback (most recent call last):\n",
      "  File \"/opt/homebrew/anaconda3/lib/python3.11/site-packages/jupyter_contrib_core/notebook_compat/nbextensions.py\", line 10, in <module>\n",
      "    from notebook.nbextensions import BaseNBExtensionApp\n",
      "ModuleNotFoundError: No module named 'notebook.nbextensions'\n",
      "\n",
      "During handling of the above exception, another exception occurred:\n",
      "\n",
      "Traceback (most recent call last):\n",
      "  File \"/opt/homebrew/anaconda3/bin/jupyter-nbextensions_configurator\", line 5, in <module>\n",
      "    from jupyter_nbextensions_configurator.application import main\n",
      "  File \"/opt/homebrew/anaconda3/lib/python3.11/site-packages/jupyter_nbextensions_configurator/application.py\", line 12, in <module>\n",
      "    from jupyter_contrib_core.notebook_compat import nbextensions, serverextensions\n",
      "  File \"/opt/homebrew/anaconda3/lib/python3.11/site-packages/jupyter_contrib_core/notebook_compat/nbextensions.py\", line 12, in <module>\n",
      "    from ._compat.nbextensions import BaseNBExtensionApp\n",
      "  File \"/opt/homebrew/anaconda3/lib/python3.11/site-packages/jupyter_contrib_core/notebook_compat/_compat/nbextensions.py\", line 35, in <module>\n",
      "    from notebook.nbextensions import (\n",
      "ModuleNotFoundError: No module named 'notebook.nbextensions'\n"
     ]
    }
   ],
   "source": [
    "!jupyter nbextensions_configurator enable --user"
   ]
  },
  {
   "cell_type": "markdown",
   "id": "a43e2757-ae17-4507-ba1a-fe7530205dc9",
   "metadata": {},
   "source": [
    "---"
   ]
  },
  {
   "cell_type": "markdown",
   "id": "e4bac675-3833-4210-a420-8112be836066",
   "metadata": {},
   "source": [
    "## KPT 회고\n",
    "- KEEP : 챕터 별로 기억해야할 내용들을 정리하고 머릿속에 넣으며 공부했다. 각 메서드가 어떤 기능을 하는지 주석을 달면서 공부했다.\n",
    "- PROBLEM : nbextensions 익스텐션을 설치할 때 ModuleNotFoundError: No module named 'notebook.nbextensions' 오류가 계속 발생한다.   \n",
    "검색과 GPT를 활용했지만 아직까지 잘 되지 않는다.\n",
    "- TRY :\n",
    "    - 조금 더 방법을 찾아보고 안되면 팀모임에서 또는 코치님께 도움을 요청하자!\n",
    "    - 항상 헷갈렸던 glob를 제대로 이해하게 되어 기쁘다! 앞으로의 작업들에서 적극적으로 활용해보자!"
   ]
  }
 ],
 "metadata": {
  "kernelspec": {
   "display_name": "Python 3 (ipykernel)",
   "language": "python",
   "name": "python3"
  },
  "language_info": {
   "codemirror_mode": {
    "name": "ipython",
    "version": 3
   },
   "file_extension": ".py",
   "mimetype": "text/x-python",
   "name": "python",
   "nbconvert_exporter": "python",
   "pygments_lexer": "ipython3",
   "version": "3.11.7"
  }
 },
 "nbformat": 4,
 "nbformat_minor": 5
}
